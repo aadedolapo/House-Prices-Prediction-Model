{
 "cells": [
  {
   "cell_type": "markdown",
   "metadata": {},
   "source": [
    "Leaky features helps the model to cheat\n",
    "\n",
    "It's also important for us to drop any columns that would constitute leakage, that is, features that were created using our target or that would give our model information that it won't have access to when it's deployed."
   ]
  },
  {
   "cell_type": "code",
   "execution_count": null,
   "metadata": {},
   "outputs": [],
   "source": [
    "# Calculating number of unique values for non numeric feature\n",
    "df.select_dtypes(\"object\").nunique()"
   ]
  },
  {
   "cell_type": "markdown",
   "metadata": {},
   "source": [
    "<div class=\"alert alert-block alert-info\">\n",
    "<b>Tip:</b> Don't try to satisfy all the criteria in the first version of your <code>wrangle</code> function. Instead, work iteratively. Start with the first criteria, test it out with one of the Mexico CSV files in the <code>data/</code> directory, and submit it to the grader for feedback. Then add the next criteria.</div>"
   ]
  },
  {
   "cell_type": "code",
   "execution_count": 2,
   "metadata": {},
   "outputs": [],
   "source": [
    "import pandas as pd\n",
    "import numpy as np\n",
    "import seaborn as sns\n",
    "import matplotlib.pyplot as plt\n",
    "import os\n",
    "import warnings\n",
    "warnings.filterwarnings('ignore')\n",
    "%matplotlib inline\n",
    "\n",
    "from sklearn.model_selection import train_test_split, cross_val_score, ShuffleSplit, GridSearchCV\n",
    "from sklearn.linear_model import LinearRegression, LogisticRegression, Ridge, Lasso\n",
    "from sklearn.tree import DecisionTreeRegressor\n",
    "from sklearn.ensemble import RandomForestRegressor\n",
    "from sklearn.preprocessing import MinMaxScaler, OneHotEncoder\n",
    "from sklearn.metrics import mean_absolute_error"
   ]
  },
  {
   "cell_type": "code",
   "execution_count": 3,
   "metadata": {},
   "outputs": [
    {
     "data": {
      "text/plain": [
       "'C:\\\\Users\\\\USER\\\\Downloads\\\\House_Prices_Prediction'"
      ]
     },
     "execution_count": 3,
     "metadata": {},
     "output_type": "execute_result"
    }
   ],
   "source": [
    "# Get current working directory\n",
    "os.getcwd()"
   ]
  },
  {
   "cell_type": "code",
   "execution_count": 4,
   "metadata": {},
   "outputs": [
    {
     "data": {
      "text/plain": [
       "'C:\\\\Users\\\\USER\\\\Downloads\\\\House_Prices_Prediction'"
      ]
     },
     "execution_count": 4,
     "metadata": {},
     "output_type": "execute_result"
    }
   ],
   "source": [
    "%pwd"
   ]
  },
  {
   "cell_type": "code",
   "execution_count": 5,
   "metadata": {},
   "outputs": [
    {
     "data": {
      "text/html": [
       "<div>\n",
       "<style scoped>\n",
       "    .dataframe tbody tr th:only-of-type {\n",
       "        vertical-align: middle;\n",
       "    }\n",
       "\n",
       "    .dataframe tbody tr th {\n",
       "        vertical-align: top;\n",
       "    }\n",
       "\n",
       "    .dataframe thead th {\n",
       "        text-align: right;\n",
       "    }\n",
       "</style>\n",
       "<table border=\"1\" class=\"dataframe\">\n",
       "  <thead>\n",
       "    <tr style=\"text-align: right;\">\n",
       "      <th></th>\n",
       "      <th>title</th>\n",
       "      <th>description</th>\n",
       "      <th>bedrooms</th>\n",
       "      <th>bathrooms</th>\n",
       "      <th>toilets</th>\n",
       "      <th>location</th>\n",
       "      <th>city</th>\n",
       "      <th>price</th>\n",
       "    </tr>\n",
       "  </thead>\n",
       "  <tbody>\n",
       "    <tr>\n",
       "      <th>0</th>\n",
       "      <td>5 Bedrooms Detached House + 1 Room BQ</td>\n",
       "      <td>5 Bedroom House</td>\n",
       "      <td>5</td>\n",
       "      <td>5</td>\n",
       "      <td>6</td>\n",
       "      <td>Joel Ogunnaike Street Gra, Ikeja , Ikeja</td>\n",
       "      <td>Ikeja</td>\n",
       "      <td>7500000</td>\n",
       "    </tr>\n",
       "    <tr>\n",
       "      <th>1</th>\n",
       "      <td>Nice 3 Bedroom Apartment in a Secured Estate</td>\n",
       "      <td>3 Bedroom Flat &amp; Apartment</td>\n",
       "      <td>3</td>\n",
       "      <td>3</td>\n",
       "      <td>4</td>\n",
       "      <td>Banana Island, Ikoyi</td>\n",
       "      <td>Ikoyi</td>\n",
       "      <td>15000000</td>\n",
       "    </tr>\n",
       "    <tr>\n",
       "      <th>2</th>\n",
       "      <td>Luxury Flats and Apartments along Banana Islan...</td>\n",
       "      <td>3 Bedroom Flat &amp; Apartment</td>\n",
       "      <td>3</td>\n",
       "      <td>3</td>\n",
       "      <td>4</td>\n",
       "      <td>Banana Island Road, Ikoyi, Banana Island, Ikoyi</td>\n",
       "      <td>Ikoyi</td>\n",
       "      <td>15000000</td>\n",
       "    </tr>\n",
       "    <tr>\n",
       "      <th>3</th>\n",
       "      <td>Luxury 3 Bedroom Flat with Excellent Facilities</td>\n",
       "      <td>3 Bedroom Flat &amp; Apartment</td>\n",
       "      <td>3</td>\n",
       "      <td>3</td>\n",
       "      <td>4</td>\n",
       "      <td>Ikoyi</td>\n",
       "      <td>Ikoyi</td>\n",
       "      <td>10000000</td>\n",
       "    </tr>\n",
       "    <tr>\n",
       "      <th>4</th>\n",
       "      <td>Direct Payment Ready Clients - Waterfront 3 Be...</td>\n",
       "      <td>3 Bedroom Flat &amp; Apartment</td>\n",
       "      <td>3</td>\n",
       "      <td>3</td>\n",
       "      <td>4</td>\n",
       "      <td>Banana Island Estate, Banana Island, Ikoyi</td>\n",
       "      <td>Ikoyi</td>\n",
       "      <td>16000000</td>\n",
       "    </tr>\n",
       "  </tbody>\n",
       "</table>\n",
       "</div>"
      ],
      "text/plain": [
       "                                               title  \\\n",
       "0              5 Bedrooms Detached House + 1 Room BQ   \n",
       "1       Nice 3 Bedroom Apartment in a Secured Estate   \n",
       "2  Luxury Flats and Apartments along Banana Islan...   \n",
       "3    Luxury 3 Bedroom Flat with Excellent Facilities   \n",
       "4  Direct Payment Ready Clients - Waterfront 3 Be...   \n",
       "\n",
       "                  description  bedrooms  bathrooms  toilets  \\\n",
       "0             5 Bedroom House         5          5        6   \n",
       "1  3 Bedroom Flat & Apartment         3          3        4   \n",
       "2  3 Bedroom Flat & Apartment         3          3        4   \n",
       "3  3 Bedroom Flat & Apartment         3          3        4   \n",
       "4  3 Bedroom Flat & Apartment         3          3        4   \n",
       "\n",
       "                                          location   city     price  \n",
       "0         Joel Ogunnaike Street Gra, Ikeja , Ikeja  Ikeja   7500000  \n",
       "1                             Banana Island, Ikoyi  Ikoyi  15000000  \n",
       "2  Banana Island Road, Ikoyi, Banana Island, Ikoyi  Ikoyi  15000000  \n",
       "3                                            Ikoyi  Ikoyi  10000000  \n",
       "4       Banana Island Estate, Banana Island, Ikoyi  Ikoyi  16000000  "
      ]
     },
     "execution_count": 5,
     "metadata": {},
     "output_type": "execute_result"
    }
   ],
   "source": [
    "# load dataset\n",
    "prop = pd.read_csv('./Properties1.csv')\n",
    "prop.head()"
   ]
  },
  {
   "cell_type": "code",
   "execution_count": 6,
   "metadata": {},
   "outputs": [
    {
     "name": "stdout",
     "output_type": "stream",
     "text": [
      "<class 'pandas.core.frame.DataFrame'>\n",
      "RangeIndex: 9979 entries, 0 to 9978\n",
      "Data columns (total 8 columns):\n",
      " #   Column       Non-Null Count  Dtype \n",
      "---  ------       --------------  ----- \n",
      " 0   title        9979 non-null   object\n",
      " 1   description  9979 non-null   object\n",
      " 2   bedrooms     9979 non-null   int64 \n",
      " 3   bathrooms    9979 non-null   int64 \n",
      " 4   toilets      9979 non-null   int64 \n",
      " 5   location     9979 non-null   object\n",
      " 6   city         9979 non-null   object\n",
      " 7   price        9979 non-null   int64 \n",
      "dtypes: int64(4), object(4)\n",
      "memory usage: 623.8+ KB\n"
     ]
    }
   ],
   "source": [
    "prop.info()"
   ]
  },
  {
   "cell_type": "code",
   "execution_count": 7,
   "metadata": {},
   "outputs": [
    {
     "data": {
      "text/html": [
       "<div>\n",
       "<style scoped>\n",
       "    .dataframe tbody tr th:only-of-type {\n",
       "        vertical-align: middle;\n",
       "    }\n",
       "\n",
       "    .dataframe tbody tr th {\n",
       "        vertical-align: top;\n",
       "    }\n",
       "\n",
       "    .dataframe thead th {\n",
       "        text-align: right;\n",
       "    }\n",
       "</style>\n",
       "<table border=\"1\" class=\"dataframe\">\n",
       "  <thead>\n",
       "    <tr style=\"text-align: right;\">\n",
       "      <th></th>\n",
       "      <th>bedrooms</th>\n",
       "      <th>bathrooms</th>\n",
       "      <th>toilets</th>\n",
       "      <th>price</th>\n",
       "    </tr>\n",
       "  </thead>\n",
       "  <tbody>\n",
       "    <tr>\n",
       "      <th>count</th>\n",
       "      <td>9979.000000</td>\n",
       "      <td>9979.000000</td>\n",
       "      <td>9979.000000</td>\n",
       "      <td>9.979000e+03</td>\n",
       "    </tr>\n",
       "    <tr>\n",
       "      <th>mean</th>\n",
       "      <td>2.482112</td>\n",
       "      <td>2.602565</td>\n",
       "      <td>3.306043</td>\n",
       "      <td>1.061530e+07</td>\n",
       "    </tr>\n",
       "    <tr>\n",
       "      <th>std</th>\n",
       "      <td>1.332164</td>\n",
       "      <td>1.338476</td>\n",
       "      <td>1.589242</td>\n",
       "      <td>2.294811e+08</td>\n",
       "    </tr>\n",
       "    <tr>\n",
       "      <th>min</th>\n",
       "      <td>0.000000</td>\n",
       "      <td>0.000000</td>\n",
       "      <td>1.000000</td>\n",
       "      <td>0.000000e+00</td>\n",
       "    </tr>\n",
       "    <tr>\n",
       "      <th>25%</th>\n",
       "      <td>2.000000</td>\n",
       "      <td>1.000000</td>\n",
       "      <td>2.000000</td>\n",
       "      <td>1.300000e+06</td>\n",
       "    </tr>\n",
       "    <tr>\n",
       "      <th>50%</th>\n",
       "      <td>3.000000</td>\n",
       "      <td>3.000000</td>\n",
       "      <td>4.000000</td>\n",
       "      <td>3.500000e+06</td>\n",
       "    </tr>\n",
       "    <tr>\n",
       "      <th>75%</th>\n",
       "      <td>3.000000</td>\n",
       "      <td>3.000000</td>\n",
       "      <td>4.000000</td>\n",
       "      <td>7.500000e+06</td>\n",
       "    </tr>\n",
       "    <tr>\n",
       "      <th>max</th>\n",
       "      <td>8.000000</td>\n",
       "      <td>8.000000</td>\n",
       "      <td>9.000000</td>\n",
       "      <td>1.500000e+10</td>\n",
       "    </tr>\n",
       "  </tbody>\n",
       "</table>\n",
       "</div>"
      ],
      "text/plain": [
       "          bedrooms    bathrooms      toilets         price\n",
       "count  9979.000000  9979.000000  9979.000000  9.979000e+03\n",
       "mean      2.482112     2.602565     3.306043  1.061530e+07\n",
       "std       1.332164     1.338476     1.589242  2.294811e+08\n",
       "min       0.000000     0.000000     1.000000  0.000000e+00\n",
       "25%       2.000000     1.000000     2.000000  1.300000e+06\n",
       "50%       3.000000     3.000000     4.000000  3.500000e+06\n",
       "75%       3.000000     3.000000     4.000000  7.500000e+06\n",
       "max       8.000000     8.000000     9.000000  1.500000e+10"
      ]
     },
     "execution_count": 7,
     "metadata": {},
     "output_type": "execute_result"
    }
   ],
   "source": [
    "prop.describe()"
   ]
  },
  {
   "cell_type": "code",
   "execution_count": 8,
   "metadata": {},
   "outputs": [
    {
     "data": {
      "text/plain": [
       "array(['5 Bedroom House', '3 Bedroom Flat & Apartment',\n",
       "       '4 Bedroom Duplex', '4 Bedroom Terrace',\n",
       "       '4 Bedroom Flat & Apartment', '3 Bedroom Terrace',\n",
       "       '2 Bedroom Flat & Apartment', 'Office', '4 Bedroom Townhouse',\n",
       "       'Flat & Apartment', 'Bungalow', '5 Bedroom Duplex',\n",
       "       '4 Bedroom House', '2 Bedroom Bungalow', '3 Bedroom Duplex',\n",
       "       '6 Bedroom Duplex', 'Commercial Property', '5 Bedroom Terrace',\n",
       "       '3 Bedroom House', '7 Bedroom Duplex', 'Warehouse',\n",
       "       '3 Bedroom Bungalow', '5 Bedroom Flat & Apartment',\n",
       "       '2 Bedroom Terrace', '7 Bedroom House', 'Hotel',\n",
       "       '5 Bedroom Bungalow', '6 Bedroom House', '2 Bedroom House', 'Shop',\n",
       "       '2 Bedroom Duplex', 'House', '5 Bedroom Townhouse',\n",
       "       '4 Bedroom Bungalow', '6 Bedroom Terrace',\n",
       "       '5 Bedroom Commercial Property', '2 Bedroom Commercial Property',\n",
       "       '5 Bedroom Office', '3 Bedroom Townhouse', '4 Bedroom Office',\n",
       "       '7 Bedroom Flat & Apartment', 'Terrace',\n",
       "       '4 Bedroom Commercial Property', 'Room or Boys Quarter',\n",
       "       '2 Bedroom Townhouse', '6 Bedroom Commercial Property',\n",
       "       '2 Bedroom Office', 'Duplex', '2 Bedroom Block Of Flats',\n",
       "       '6 Bedroom Flat & Apartment', 'Land', '6 Bedroom Office',\n",
       "       '3 Bedroom Block Of Flats', '3 bedroom flat / apartment for rent',\n",
       "       '2 bedroom flat / apartment for rent',\n",
       "       '1 bedroom mini flat (room and parlour) for rent',\n",
       "       '4 bedroom flat / apartment for rent',\n",
       "       'Self contain (single rooms) for rent',\n",
       "       '5 bedroom flat / apartment for rent',\n",
       "       '1 bedroom flat / apartment for rent',\n",
       "       '6 bedroom flat / apartment for rent',\n",
       "       '8 bedroom flat / apartment for rent', 'Flat / apartment for rent',\n",
       "       '16 bedroom flat / apartment for rent',\n",
       "       '4 bedroom semi-detached duplex for rent',\n",
       "       '17 bedroom flat / apartment for rent'], dtype=object)"
      ]
     },
     "execution_count": 8,
     "metadata": {},
     "output_type": "execute_result"
    }
   ],
   "source": [
    "prop['description'].unique()"
   ]
  },
  {
   "cell_type": "code",
   "execution_count": 10,
   "metadata": {},
   "outputs": [],
   "source": [
    "def island_flag(prop):\n",
    "    if (prop['city']=='Lekki') or (prop['city']=='Victoria Island') or (prop['city']=='Ajah') \\\n",
    "     or (prop['city']=='Ikoyi') or (prop['city']=='Eko Atlantic City') or (prop['city']=='Epe') or (prop['city']=='Lagos Island'):\n",
    "        return 1\n",
    "    else:\n",
    "        return 0"
   ]
  },
  {
   "cell_type": "code",
   "execution_count": 11,
   "metadata": {},
   "outputs": [],
   "source": [
    "prop['island_flag'] = prop.apply(island_flag, axis=1)"
   ]
  },
  {
   "cell_type": "code",
   "execution_count": 13,
   "metadata": {},
   "outputs": [
    {
     "data": {
      "text/plain": [
       "1    8264\n",
       "0    1715\n",
       "Name: island_flag, dtype: int64"
      ]
     },
     "execution_count": 13,
     "metadata": {},
     "output_type": "execute_result"
    }
   ],
   "source": [
    "prop['island_flag'].value_counts()"
   ]
  },
  {
   "cell_type": "code",
   "execution_count": 14,
   "metadata": {},
   "outputs": [],
   "source": [
    "#create new features\n",
    "prop['estate_flag'] = prop['location'].apply(lambda x: len([c for c in str(x).lower().split() if \"estate\" in c]))\n",
    "prop['terrace_flag'] = prop['title'].apply(lambda x: len([c for c in str(x).lower().split() if \"terraced\" \n",
    "                                                                  in c or \"terrace\" in c or \"detached\" in c\n",
    "                                                                 or \"duplex\" in c]))\n",
    "prop['luxury_flag'] = prop['title'].apply(lambda x: len([c for c in str(x).lower().split()\n",
    "                                                              if \"new\" in c or \"luxury\" in c or \"newly\" in c\n",
    "                                                              or \"executive\" in c or \"luxurious\" in c\n",
    "                                                                        or \"renovated\" in c]))\n",
    "prop['serviced_flag'] = prop['title'].apply(lambda x: len([c for c in str(x).lower().split()\n",
    "                                                                           if \"serviced\" in c or \"studio\" in c]))\n",
    "prop['miniflat_flag'] = prop['description'].apply(lambda x: len([c for c in str(x).lower().split() if \"mini\" in c]))\n",
    "prop['selfcontain_flag'] = prop['description'].apply(lambda x: len([c for c in str(x).lower().split() if \"self\" in c]))"
   ]
  },
  {
   "cell_type": "code",
   "execution_count": 15,
   "metadata": {},
   "outputs": [
    {
     "data": {
      "text/html": [
       "<div>\n",
       "<style scoped>\n",
       "    .dataframe tbody tr th:only-of-type {\n",
       "        vertical-align: middle;\n",
       "    }\n",
       "\n",
       "    .dataframe tbody tr th {\n",
       "        vertical-align: top;\n",
       "    }\n",
       "\n",
       "    .dataframe thead th {\n",
       "        text-align: right;\n",
       "    }\n",
       "</style>\n",
       "<table border=\"1\" class=\"dataframe\">\n",
       "  <thead>\n",
       "    <tr style=\"text-align: right;\">\n",
       "      <th></th>\n",
       "      <th>title</th>\n",
       "      <th>description</th>\n",
       "      <th>bedrooms</th>\n",
       "      <th>bathrooms</th>\n",
       "      <th>toilets</th>\n",
       "      <th>location</th>\n",
       "      <th>city</th>\n",
       "      <th>price</th>\n",
       "      <th>estate_flag</th>\n",
       "      <th>terrace_flag</th>\n",
       "      <th>luxury_flag</th>\n",
       "      <th>serviced_flag</th>\n",
       "      <th>miniflat_flag</th>\n",
       "      <th>selfcontain_flag</th>\n",
       "      <th>island_flag</th>\n",
       "    </tr>\n",
       "  </thead>\n",
       "  <tbody>\n",
       "    <tr>\n",
       "      <th>0</th>\n",
       "      <td>5 Bedrooms Detached House + 1 Room BQ</td>\n",
       "      <td>5 Bedroom House</td>\n",
       "      <td>5</td>\n",
       "      <td>5</td>\n",
       "      <td>6</td>\n",
       "      <td>Joel Ogunnaike Street Gra, Ikeja , Ikeja</td>\n",
       "      <td>Ikeja</td>\n",
       "      <td>7500000</td>\n",
       "      <td>0</td>\n",
       "      <td>1</td>\n",
       "      <td>0</td>\n",
       "      <td>0</td>\n",
       "      <td>0</td>\n",
       "      <td>0</td>\n",
       "      <td>0</td>\n",
       "    </tr>\n",
       "    <tr>\n",
       "      <th>1</th>\n",
       "      <td>Nice 3 Bedroom Apartment in a Secured Estate</td>\n",
       "      <td>3 Bedroom Flat &amp; Apartment</td>\n",
       "      <td>3</td>\n",
       "      <td>3</td>\n",
       "      <td>4</td>\n",
       "      <td>Banana Island, Ikoyi</td>\n",
       "      <td>Ikoyi</td>\n",
       "      <td>15000000</td>\n",
       "      <td>0</td>\n",
       "      <td>0</td>\n",
       "      <td>0</td>\n",
       "      <td>0</td>\n",
       "      <td>0</td>\n",
       "      <td>0</td>\n",
       "      <td>1</td>\n",
       "    </tr>\n",
       "  </tbody>\n",
       "</table>\n",
       "</div>"
      ],
      "text/plain": [
       "                                          title                 description  \\\n",
       "0         5 Bedrooms Detached House + 1 Room BQ             5 Bedroom House   \n",
       "1  Nice 3 Bedroom Apartment in a Secured Estate  3 Bedroom Flat & Apartment   \n",
       "\n",
       "   bedrooms  bathrooms  toilets                                  location  \\\n",
       "0         5          5        6  Joel Ogunnaike Street Gra, Ikeja , Ikeja   \n",
       "1         3          3        4                      Banana Island, Ikoyi   \n",
       "\n",
       "    city     price  estate_flag  terrace_flag  luxury_flag  serviced_flag  \\\n",
       "0  Ikeja   7500000            0             1            0              0   \n",
       "1  Ikoyi  15000000            0             0            0              0   \n",
       "\n",
       "   miniflat_flag  selfcontain_flag  island_flag  \n",
       "0              0                 0            0  \n",
       "1              0                 0            1  "
      ]
     },
     "execution_count": 15,
     "metadata": {},
     "output_type": "execute_result"
    }
   ],
   "source": [
    "prop.head(2)"
   ]
  },
  {
   "cell_type": "code",
   "execution_count": 16,
   "metadata": {},
   "outputs": [
    {
     "data": {
      "text/html": [
       "<div>\n",
       "<style scoped>\n",
       "    .dataframe tbody tr th:only-of-type {\n",
       "        vertical-align: middle;\n",
       "    }\n",
       "\n",
       "    .dataframe tbody tr th {\n",
       "        vertical-align: top;\n",
       "    }\n",
       "\n",
       "    .dataframe thead th {\n",
       "        text-align: right;\n",
       "    }\n",
       "</style>\n",
       "<table border=\"1\" class=\"dataframe\">\n",
       "  <thead>\n",
       "    <tr style=\"text-align: right;\">\n",
       "      <th></th>\n",
       "      <th>bedrooms</th>\n",
       "      <th>bathrooms</th>\n",
       "      <th>toilets</th>\n",
       "      <th>city</th>\n",
       "      <th>price</th>\n",
       "      <th>estate_flag</th>\n",
       "      <th>terrace_flag</th>\n",
       "      <th>luxury_flag</th>\n",
       "      <th>serviced_flag</th>\n",
       "      <th>miniflat_flag</th>\n",
       "      <th>selfcontain_flag</th>\n",
       "      <th>island_flag</th>\n",
       "    </tr>\n",
       "  </thead>\n",
       "  <tbody>\n",
       "    <tr>\n",
       "      <th>0</th>\n",
       "      <td>5</td>\n",
       "      <td>5</td>\n",
       "      <td>6</td>\n",
       "      <td>Ikeja</td>\n",
       "      <td>7500000</td>\n",
       "      <td>0</td>\n",
       "      <td>1</td>\n",
       "      <td>0</td>\n",
       "      <td>0</td>\n",
       "      <td>0</td>\n",
       "      <td>0</td>\n",
       "      <td>0</td>\n",
       "    </tr>\n",
       "    <tr>\n",
       "      <th>1</th>\n",
       "      <td>3</td>\n",
       "      <td>3</td>\n",
       "      <td>4</td>\n",
       "      <td>Ikoyi</td>\n",
       "      <td>15000000</td>\n",
       "      <td>0</td>\n",
       "      <td>0</td>\n",
       "      <td>0</td>\n",
       "      <td>0</td>\n",
       "      <td>0</td>\n",
       "      <td>0</td>\n",
       "      <td>1</td>\n",
       "    </tr>\n",
       "    <tr>\n",
       "      <th>2</th>\n",
       "      <td>3</td>\n",
       "      <td>3</td>\n",
       "      <td>4</td>\n",
       "      <td>Ikoyi</td>\n",
       "      <td>15000000</td>\n",
       "      <td>0</td>\n",
       "      <td>0</td>\n",
       "      <td>1</td>\n",
       "      <td>0</td>\n",
       "      <td>0</td>\n",
       "      <td>0</td>\n",
       "      <td>1</td>\n",
       "    </tr>\n",
       "    <tr>\n",
       "      <th>3</th>\n",
       "      <td>3</td>\n",
       "      <td>3</td>\n",
       "      <td>4</td>\n",
       "      <td>Ikoyi</td>\n",
       "      <td>10000000</td>\n",
       "      <td>0</td>\n",
       "      <td>0</td>\n",
       "      <td>1</td>\n",
       "      <td>0</td>\n",
       "      <td>0</td>\n",
       "      <td>0</td>\n",
       "      <td>1</td>\n",
       "    </tr>\n",
       "    <tr>\n",
       "      <th>4</th>\n",
       "      <td>3</td>\n",
       "      <td>3</td>\n",
       "      <td>4</td>\n",
       "      <td>Ikoyi</td>\n",
       "      <td>16000000</td>\n",
       "      <td>1</td>\n",
       "      <td>0</td>\n",
       "      <td>0</td>\n",
       "      <td>0</td>\n",
       "      <td>0</td>\n",
       "      <td>0</td>\n",
       "      <td>1</td>\n",
       "    </tr>\n",
       "  </tbody>\n",
       "</table>\n",
       "</div>"
      ],
      "text/plain": [
       "   bedrooms  bathrooms  toilets   city     price  estate_flag  terrace_flag  \\\n",
       "0         5          5        6  Ikeja   7500000            0             1   \n",
       "1         3          3        4  Ikoyi  15000000            0             0   \n",
       "2         3          3        4  Ikoyi  15000000            0             0   \n",
       "3         3          3        4  Ikoyi  10000000            0             0   \n",
       "4         3          3        4  Ikoyi  16000000            1             0   \n",
       "\n",
       "   luxury_flag  serviced_flag  miniflat_flag  selfcontain_flag  island_flag  \n",
       "0            0              0              0                 0            0  \n",
       "1            0              0              0                 0            1  \n",
       "2            1              0              0                 0            1  \n",
       "3            1              0              0                 0            1  \n",
       "4            0              0              0                 0            1  "
      ]
     },
     "execution_count": 16,
     "metadata": {},
     "output_type": "execute_result"
    }
   ],
   "source": [
    "prop2 = prop.drop(['title', 'description', 'location'], axis='columns')\n",
    "prop2.head()"
   ]
  },
  {
   "cell_type": "code",
   "execution_count": 17,
   "metadata": {},
   "outputs": [
    {
     "data": {
      "text/plain": [
       "array([5, 3, 4, 2, 0, 1, 6, 7, 8], dtype=int64)"
      ]
     },
     "execution_count": 17,
     "metadata": {},
     "output_type": "execute_result"
    }
   ],
   "source": [
    "prop['bedrooms'].unique()"
   ]
  },
  {
   "cell_type": "code",
   "execution_count": 18,
   "metadata": {},
   "outputs": [
    {
     "data": {
      "text/html": [
       "<div>\n",
       "<style scoped>\n",
       "    .dataframe tbody tr th:only-of-type {\n",
       "        vertical-align: middle;\n",
       "    }\n",
       "\n",
       "    .dataframe tbody tr th {\n",
       "        vertical-align: top;\n",
       "    }\n",
       "\n",
       "    .dataframe thead th {\n",
       "        text-align: right;\n",
       "    }\n",
       "</style>\n",
       "<table border=\"1\" class=\"dataframe\">\n",
       "  <thead>\n",
       "    <tr style=\"text-align: right;\">\n",
       "      <th></th>\n",
       "      <th>bedrooms</th>\n",
       "      <th>bathrooms</th>\n",
       "      <th>toilets</th>\n",
       "      <th>price</th>\n",
       "      <th>estate_flag</th>\n",
       "      <th>terrace_flag</th>\n",
       "      <th>luxury_flag</th>\n",
       "      <th>serviced_flag</th>\n",
       "      <th>miniflat_flag</th>\n",
       "      <th>selfcontain_flag</th>\n",
       "      <th>island_flag</th>\n",
       "    </tr>\n",
       "  </thead>\n",
       "  <tbody>\n",
       "    <tr>\n",
       "      <th>bedrooms</th>\n",
       "      <td>1.000000</td>\n",
       "      <td>0.932754</td>\n",
       "      <td>0.941154</td>\n",
       "      <td>0.026483</td>\n",
       "      <td>-0.015141</td>\n",
       "      <td>0.491217</td>\n",
       "      <td>0.059840</td>\n",
       "      <td>-0.039492</td>\n",
       "      <td>-0.405092</td>\n",
       "      <td>-0.478761</td>\n",
       "      <td>0.144135</td>\n",
       "    </tr>\n",
       "    <tr>\n",
       "      <th>bathrooms</th>\n",
       "      <td>0.932754</td>\n",
       "      <td>1.000000</td>\n",
       "      <td>0.950432</td>\n",
       "      <td>0.023878</td>\n",
       "      <td>-0.000095</td>\n",
       "      <td>0.501677</td>\n",
       "      <td>0.060742</td>\n",
       "      <td>-0.020635</td>\n",
       "      <td>-0.435949</td>\n",
       "      <td>-0.307652</td>\n",
       "      <td>0.163019</td>\n",
       "    </tr>\n",
       "    <tr>\n",
       "      <th>toilets</th>\n",
       "      <td>0.941154</td>\n",
       "      <td>0.950432</td>\n",
       "      <td>1.000000</td>\n",
       "      <td>0.037202</td>\n",
       "      <td>-0.024270</td>\n",
       "      <td>0.494056</td>\n",
       "      <td>0.044231</td>\n",
       "      <td>-0.026878</td>\n",
       "      <td>-0.528333</td>\n",
       "      <td>-0.366046</td>\n",
       "      <td>0.176487</td>\n",
       "    </tr>\n",
       "    <tr>\n",
       "      <th>price</th>\n",
       "      <td>0.026483</td>\n",
       "      <td>0.023878</td>\n",
       "      <td>0.037202</td>\n",
       "      <td>1.000000</td>\n",
       "      <td>-0.012025</td>\n",
       "      <td>-0.003323</td>\n",
       "      <td>-0.013387</td>\n",
       "      <td>-0.007020</td>\n",
       "      <td>-0.014058</td>\n",
       "      <td>-0.010722</td>\n",
       "      <td>0.014313</td>\n",
       "    </tr>\n",
       "    <tr>\n",
       "      <th>estate_flag</th>\n",
       "      <td>-0.015141</td>\n",
       "      <td>-0.000095</td>\n",
       "      <td>-0.024270</td>\n",
       "      <td>-0.012025</td>\n",
       "      <td>1.000000</td>\n",
       "      <td>-0.030893</td>\n",
       "      <td>0.059907</td>\n",
       "      <td>-0.029261</td>\n",
       "      <td>0.031629</td>\n",
       "      <td>0.046982</td>\n",
       "      <td>-0.004984</td>\n",
       "    </tr>\n",
       "    <tr>\n",
       "      <th>terrace_flag</th>\n",
       "      <td>0.491217</td>\n",
       "      <td>0.501677</td>\n",
       "      <td>0.494056</td>\n",
       "      <td>-0.003323</td>\n",
       "      <td>-0.030893</td>\n",
       "      <td>1.000000</td>\n",
       "      <td>-0.098382</td>\n",
       "      <td>-0.075800</td>\n",
       "      <td>-0.150352</td>\n",
       "      <td>-0.092461</td>\n",
       "      <td>0.112284</td>\n",
       "    </tr>\n",
       "    <tr>\n",
       "      <th>luxury_flag</th>\n",
       "      <td>0.059840</td>\n",
       "      <td>0.060742</td>\n",
       "      <td>0.044231</td>\n",
       "      <td>-0.013387</td>\n",
       "      <td>0.059907</td>\n",
       "      <td>-0.098382</td>\n",
       "      <td>1.000000</td>\n",
       "      <td>0.010557</td>\n",
       "      <td>-0.002045</td>\n",
       "      <td>-0.082246</td>\n",
       "      <td>-0.047389</td>\n",
       "    </tr>\n",
       "    <tr>\n",
       "      <th>serviced_flag</th>\n",
       "      <td>-0.039492</td>\n",
       "      <td>-0.020635</td>\n",
       "      <td>-0.026878</td>\n",
       "      <td>-0.007020</td>\n",
       "      <td>-0.029261</td>\n",
       "      <td>-0.075800</td>\n",
       "      <td>0.010557</td>\n",
       "      <td>1.000000</td>\n",
       "      <td>-0.015421</td>\n",
       "      <td>0.046092</td>\n",
       "      <td>0.087553</td>\n",
       "    </tr>\n",
       "    <tr>\n",
       "      <th>miniflat_flag</th>\n",
       "      <td>-0.405092</td>\n",
       "      <td>-0.435949</td>\n",
       "      <td>-0.528333</td>\n",
       "      <td>-0.014058</td>\n",
       "      <td>0.031629</td>\n",
       "      <td>-0.150352</td>\n",
       "      <td>-0.002045</td>\n",
       "      <td>-0.015421</td>\n",
       "      <td>1.000000</td>\n",
       "      <td>-0.093550</td>\n",
       "      <td>-0.054754</td>\n",
       "    </tr>\n",
       "    <tr>\n",
       "      <th>selfcontain_flag</th>\n",
       "      <td>-0.478761</td>\n",
       "      <td>-0.307652</td>\n",
       "      <td>-0.366046</td>\n",
       "      <td>-0.010722</td>\n",
       "      <td>0.046982</td>\n",
       "      <td>-0.092461</td>\n",
       "      <td>-0.082246</td>\n",
       "      <td>0.046092</td>\n",
       "      <td>-0.093550</td>\n",
       "      <td>1.000000</td>\n",
       "      <td>-0.001973</td>\n",
       "    </tr>\n",
       "    <tr>\n",
       "      <th>island_flag</th>\n",
       "      <td>0.144135</td>\n",
       "      <td>0.163019</td>\n",
       "      <td>0.176487</td>\n",
       "      <td>0.014313</td>\n",
       "      <td>-0.004984</td>\n",
       "      <td>0.112284</td>\n",
       "      <td>-0.047389</td>\n",
       "      <td>0.087553</td>\n",
       "      <td>-0.054754</td>\n",
       "      <td>-0.001973</td>\n",
       "      <td>1.000000</td>\n",
       "    </tr>\n",
       "  </tbody>\n",
       "</table>\n",
       "</div>"
      ],
      "text/plain": [
       "                  bedrooms  bathrooms   toilets     price  estate_flag  \\\n",
       "bedrooms          1.000000   0.932754  0.941154  0.026483    -0.015141   \n",
       "bathrooms         0.932754   1.000000  0.950432  0.023878    -0.000095   \n",
       "toilets           0.941154   0.950432  1.000000  0.037202    -0.024270   \n",
       "price             0.026483   0.023878  0.037202  1.000000    -0.012025   \n",
       "estate_flag      -0.015141  -0.000095 -0.024270 -0.012025     1.000000   \n",
       "terrace_flag      0.491217   0.501677  0.494056 -0.003323    -0.030893   \n",
       "luxury_flag       0.059840   0.060742  0.044231 -0.013387     0.059907   \n",
       "serviced_flag    -0.039492  -0.020635 -0.026878 -0.007020    -0.029261   \n",
       "miniflat_flag    -0.405092  -0.435949 -0.528333 -0.014058     0.031629   \n",
       "selfcontain_flag -0.478761  -0.307652 -0.366046 -0.010722     0.046982   \n",
       "island_flag       0.144135   0.163019  0.176487  0.014313    -0.004984   \n",
       "\n",
       "                  terrace_flag  luxury_flag  serviced_flag  miniflat_flag  \\\n",
       "bedrooms              0.491217     0.059840      -0.039492      -0.405092   \n",
       "bathrooms             0.501677     0.060742      -0.020635      -0.435949   \n",
       "toilets               0.494056     0.044231      -0.026878      -0.528333   \n",
       "price                -0.003323    -0.013387      -0.007020      -0.014058   \n",
       "estate_flag          -0.030893     0.059907      -0.029261       0.031629   \n",
       "terrace_flag          1.000000    -0.098382      -0.075800      -0.150352   \n",
       "luxury_flag          -0.098382     1.000000       0.010557      -0.002045   \n",
       "serviced_flag        -0.075800     0.010557       1.000000      -0.015421   \n",
       "miniflat_flag        -0.150352    -0.002045      -0.015421       1.000000   \n",
       "selfcontain_flag     -0.092461    -0.082246       0.046092      -0.093550   \n",
       "island_flag           0.112284    -0.047389       0.087553      -0.054754   \n",
       "\n",
       "                  selfcontain_flag  island_flag  \n",
       "bedrooms                 -0.478761     0.144135  \n",
       "bathrooms                -0.307652     0.163019  \n",
       "toilets                  -0.366046     0.176487  \n",
       "price                    -0.010722     0.014313  \n",
       "estate_flag               0.046982    -0.004984  \n",
       "terrace_flag             -0.092461     0.112284  \n",
       "luxury_flag              -0.082246    -0.047389  \n",
       "serviced_flag             0.046092     0.087553  \n",
       "miniflat_flag            -0.093550    -0.054754  \n",
       "selfcontain_flag          1.000000    -0.001973  \n",
       "island_flag              -0.001973     1.000000  "
      ]
     },
     "execution_count": 18,
     "metadata": {},
     "output_type": "execute_result"
    }
   ],
   "source": [
    "corr= prop.corr()\n",
    "corr"
   ]
  },
  {
   "cell_type": "code",
   "execution_count": 20,
   "metadata": {},
   "outputs": [
    {
     "data": {
      "image/png": "[encoded data removed]",
      "text/plain": [
       "<Figure size 1440x720 with 2 Axes>"
      ]
     },
     "metadata": {
      "needs_background": "light"
     },
     "output_type": "display_data"
    }
   ],
   "source": [
    "#corr\n",
    "plt.figure(figsize=(20, 10))\n",
    "sns.heatmap(corr,cmap='coolwarm',linewidths=2.0, annot=True);"
   ]
  },
  {
   "cell_type": "code",
   "execution_count": 21,
   "metadata": {},
   "outputs": [
    {
     "data": {
      "text/plain": [
       "bedrooms            0\n",
       "bathrooms           0\n",
       "toilets             0\n",
       "city                0\n",
       "price               0\n",
       "estate_flag         0\n",
       "terrace_flag        0\n",
       "luxury_flag         0\n",
       "serviced_flag       0\n",
       "miniflat_flag       0\n",
       "selfcontain_flag    0\n",
       "island_flag         0\n",
       "dtype: int64"
      ]
     },
     "execution_count": 21,
     "metadata": {},
     "output_type": "execute_result"
    }
   ],
   "source": [
    "prop2.isna().sum()"
   ]
  },
  {
   "cell_type": "code",
   "execution_count": 22,
   "metadata": {},
   "outputs": [],
   "source": [
    "def unique_(data, cols):\n",
    "    for each in cols:\n",
    "        x = data[each].unique()\n",
    "        print(\"Unique values in\", each, \"column\",x)"
   ]
  },
  {
   "cell_type": "code",
   "execution_count": 23,
   "metadata": {},
   "outputs": [],
   "source": [
    "col = ['bedrooms', 'bathrooms', 'toilets']"
   ]
  },
  {
   "cell_type": "code",
   "execution_count": 24,
   "metadata": {},
   "outputs": [
    {
     "name": "stdout",
     "output_type": "stream",
     "text": [
      "Unique values in bedrooms column [5 3 4 2 0 1 6 7 8]\n",
      "Unique values in bathrooms column [5 3 4 2 0 1 6 7 8]\n",
      "Unique values in toilets column [6 4 5 3 1 2 7 8 9]\n"
     ]
    }
   ],
   "source": [
    "unique_(prop2, col)"
   ]
  },
  {
   "cell_type": "code",
   "execution_count": 25,
   "metadata": {},
   "outputs": [
    {
     "data": {
      "text/plain": [
       "array(['Ikeja', 'Ikoyi', 'Victoria Island', 'Lekki', 'Ajah', 'Abuja',\n",
       "       'Ibadan', 'Lagos Extension', 'Oshodi', 'Agege', 'Gbagada', 'Ketu',\n",
       "       'Yaba', 'Isolo', 'Festac', 'Ikorodu Road', 'Surulere', 'Mushin',\n",
       "       'Ogun', 'Port Harcourt', 'North', 'Maryland', 'Ogudu', 'Ikorodu',\n",
       "       'Shomolu', 'Magodo', 'Ilupeju', 'Odofin', 'Ojodu', 'Ojota',\n",
       "       'Kosofe', 'Ijede', 'Ayobo', 'Ipaja', 'Ikotun', 'Eko Atlantic City',\n",
       "       'Alimosho', 'Ojo', 'Ifako-Ijaiye', 'Ijaiye', 'Epe', 'Island',\n",
       "       'Idimu', 'Apapa'], dtype=object)"
      ]
     },
     "execution_count": 25,
     "metadata": {},
     "output_type": "execute_result"
    }
   ],
   "source": [
    "prop2['city'].unique()"
   ]
  },
  {
   "cell_type": "code",
   "execution_count": 26,
   "metadata": {},
   "outputs": [
    {
     "data": {
      "text/plain": [
       "city\n",
       "Lekki                3764\n",
       "Ikoyi                2348\n",
       "Ajah                 1313\n",
       "Victoria Island       816\n",
       "Ikeja                 334\n",
       "Yaba                  210\n",
       "Surulere              156\n",
       "Gbagada               110\n",
       "Magodo                107\n",
       "Ikorodu                96\n",
       "Isolo                  83\n",
       "Abuja                  76\n",
       "Shomolu                68\n",
       "Ketu                   48\n",
       "Ojodu                  47\n",
       "Maryland               43\n",
       "Ogudu                  41\n",
       "Ipaja                  40\n",
       "Agege                  40\n",
       "North                  39\n",
       "Ibadan                 36\n",
       "Odofin                 23\n",
       "Alimosho               17\n",
       "Ayobo                  17\n",
       "Eko Atlantic City      13\n",
       "Ikotun                 11\n",
       "Epe                    10\n",
       "Ojo                    10\n",
       "Ilupeju                 9\n",
       "Oshodi                  8\n",
       "Ikorodu Road            7\n",
       "Ifako-Ijaiye            6\n",
       "Lagos Extension         6\n",
       "Island                  5\n",
       "Kosofe                  4\n",
       "Ojota                   4\n",
       "Mushin                  3\n",
       "Apapa                   3\n",
       "Ijaiye                  2\n",
       "Ijede                   2\n",
       "Ogun                    1\n",
       "Festac                  1\n",
       "Port Harcourt           1\n",
       "Idimu                   1\n",
       "Name: city, dtype: int64"
      ]
     },
     "execution_count": 26,
     "metadata": {},
     "output_type": "execute_result"
    }
   ],
   "source": [
    "city_stats = prop2.groupby('city')['city'].agg('count').sort_values(ascending=False)\n",
    "city_stats"
   ]
  },
  {
   "cell_type": "code",
   "execution_count": 27,
   "metadata": {},
   "outputs": [
    {
     "name": "stdout",
     "output_type": "stream",
     "text": [
      "This is the median for 1 bedroom in Ikoyi :  4000000.0\n",
      "This is the median for 2 bedroom in Ikoyi :  8000000.0\n",
      "This is the median for 3 bedroom in Ikoyi :  11000000.0\n",
      "This is the median for 4 bedroom in Ikoyi :  13000000.0\n",
      "This is the median for 5 bedroom in Ikoyi :  20000000.0\n",
      "This is the median for 1 bedroom in Lekki :  1500000.0\n",
      "This is the median for 2 bedroom in Lekki :  2500000.0\n",
      "This is the median for 3 bedroom in Lekki :  3500000.0\n",
      "This is the median for 4 bedroom in Lekki :  4500000.0\n",
      "This is the median for 5 bedroom in Lekki :  6500000.0\n",
      "This is the median for 1 bedroom in Ajah :  700000.0\n",
      "This is the median for 2 bedroom in Ajah :  1200000.0\n",
      "This is the median for 3 bedroom in Ajah :  1500000.0\n",
      "This is the median for 4 bedroom in Ajah :  3000000.0\n",
      "This is the median for 5 bedroom in Ajah :  4500000.0\n",
      "This is the median for 1 bedroom in Victoria Island :  3000000.0\n",
      "This is the median for 2 bedroom in Victoria Island :  5000000.0\n",
      "This is the median for 3 bedroom in Victoria Island :  7000000.0\n",
      "This is the median for 4 bedroom in Victoria Island :  8500000.0\n",
      "This is the median for 5 bedroom in Victoria Island :  15000000.0\n",
      "This is the median for 1 bedroom in Shomolu :  575000.0\n",
      "This is the median for 2 bedroom in Shomolu :  1000000.0\n",
      "This is the median for 3 bedroom in Shomolu :  1500000.0\n",
      "This is the median for 4 bedroom in Shomolu :  0\n",
      "This is the median for 5 bedroom in Shomolu :  0\n",
      "This is the median for 1 bedroom in Maryland :  1250000.0\n",
      "This is the median for 2 bedroom in Maryland :  2500000.0\n",
      "This is the median for 3 bedroom in Maryland :  2300000.0\n",
      "This is the median for 4 bedroom in Maryland :  0\n",
      "This is the median for 5 bedroom in Maryland :  6000000.0\n",
      "This is the median for 1 bedroom in Surulere :  625000.0\n",
      "This is the median for 2 bedroom in Surulere :  1400000.0\n",
      "This is the median for 3 bedroom in Surulere :  1500000.0\n",
      "This is the median for 4 bedroom in Surulere :  3200000.0\n",
      "This is the median for 5 bedroom in Surulere :  0\n",
      "This is the median for 1 bedroom in Odofin :  800000.0\n",
      "This is the median for 2 bedroom in Odofin :  1200000.0\n",
      "This is the median for 3 bedroom in Odofin :  1700000.0\n",
      "This is the median for 4 bedroom in Odofin :  0\n",
      "This is the median for 5 bedroom in Odofin :  0\n",
      "This is the median for 1 bedroom in Ojodu :  500000.0\n",
      "This is the median for 2 bedroom in Ojodu :  800000.0\n",
      "This is the median for 3 bedroom in Ojodu :  1200000.0\n",
      "This is the median for 4 bedroom in Ojodu :  2500000.0\n",
      "This is the median for 5 bedroom in Ojodu :  0\n",
      "This is the median for 1 bedroom in Yaba :  700000.0\n",
      "This is the median for 2 bedroom in Yaba :  1300000.0\n",
      "This is the median for 3 bedroom in Yaba :  1600000.0\n",
      "This is the median for 4 bedroom in Yaba :  2000000.0\n",
      "This is the median for 5 bedroom in Yaba :  0\n",
      "This is the median for 1 bedroom in Gbagada :  600000.0\n",
      "This is the median for 2 bedroom in Gbagada :  1400000.0\n",
      "This is the median for 3 bedroom in Gbagada :  2500000.0\n",
      "This is the median for 4 bedroom in Gbagada :  3250000.0\n",
      "This is the median for 5 bedroom in Gbagada :  0\n",
      "This is the median for 1 bedroom in Ikeja :  650000.0\n",
      "This is the median for 2 bedroom in Ikeja :  1500000.0\n",
      "This is the median for 3 bedroom in Ikeja :  3000000.0\n",
      "This is the median for 4 bedroom in Ikeja :  5000000.0\n",
      "This is the median for 5 bedroom in Ikeja :  6000000.0\n",
      "This is the median for 1 bedroom in Ojota :  550000.0\n",
      "This is the median for 2 bedroom in Ojota :  0\n",
      "This is the median for 3 bedroom in Ojota :  0\n",
      "This is the median for 4 bedroom in Ojota :  0\n",
      "This is the median for 5 bedroom in Ojota :  0\n",
      "This is the median for 1 bedroom in Kosofe :  0\n",
      "This is the median for 2 bedroom in Kosofe :  800000.0\n",
      "This is the median for 3 bedroom in Kosofe :  0\n",
      "This is the median for 4 bedroom in Kosofe :  0\n",
      "This is the median for 5 bedroom in Kosofe :  0\n",
      "This is the median for 1 bedroom in Magodo :  750000.0\n",
      "This is the median for 2 bedroom in Magodo :  1250000.0\n",
      "This is the median for 3 bedroom in Magodo :  2000000.0\n",
      "This is the median for 4 bedroom in Magodo :  2500000.0\n",
      "This is the median for 5 bedroom in Magodo :  0\n",
      "This is the median for 1 bedroom in Agege :  350000.0\n",
      "This is the median for 2 bedroom in Agege :  625000.0\n",
      "This is the median for 3 bedroom in Agege :  700000.0\n",
      "This is the median for 4 bedroom in Agege :  0\n",
      "This is the median for 5 bedroom in Agege :  0\n",
      "This is the median for 1 bedroom in Ikorodu :  170000.0\n",
      "This is the median for 2 bedroom in Ikorodu :  450000.0\n",
      "This is the median for 3 bedroom in Ikorodu :  400000.0\n",
      "This is the median for 4 bedroom in Ikorodu :  600000.0\n",
      "This is the median for 5 bedroom in Ikorodu :  0\n",
      "This is the median for 1 bedroom in Ketu :  650000.0\n",
      "This is the median for 2 bedroom in Ketu :  1000000.0\n",
      "This is the median for 3 bedroom in Ketu :  1500000.0\n",
      "This is the median for 4 bedroom in Ketu :  0\n",
      "This is the median for 5 bedroom in Ketu :  87000000.0\n",
      "This is the median for 1 bedroom in Ogudu :  700000.0\n",
      "This is the median for 2 bedroom in Ogudu :  1000000.0\n",
      "This is the median for 3 bedroom in Ogudu :  3200000.0\n",
      "This is the median for 4 bedroom in Ogudu :  3000000.0\n",
      "This is the median for 5 bedroom in Ogudu :  0\n",
      "This is the median for 1 bedroom in North :  0\n",
      "This is the median for 2 bedroom in North :  1100000.0\n",
      "This is the median for 3 bedroom in North :  1500000.0\n",
      "This is the median for 4 bedroom in North :  2100000.0\n",
      "This is the median for 5 bedroom in North :  3000000.0\n",
      "This is the median for 1 bedroom in Ilupeju :  700000.0\n",
      "This is the median for 2 bedroom in Ilupeju :  1200000.0\n",
      "This is the median for 3 bedroom in Ilupeju :  2250000.0\n",
      "This is the median for 4 bedroom in Ilupeju :  0\n",
      "This is the median for 5 bedroom in Ilupeju :  0\n",
      "This is the median for 1 bedroom in Isolo :  725000.0\n",
      "This is the median for 2 bedroom in Isolo :  1000000.0\n",
      "This is the median for 3 bedroom in Isolo :  1050000.0\n",
      "This is the median for 4 bedroom in Isolo :  2500000.0\n",
      "This is the median for 5 bedroom in Isolo :  0\n",
      "This is the median for 1 bedroom in Mushin :  500000.0\n",
      "This is the median for 2 bedroom in Mushin :  0\n",
      "This is the median for 3 bedroom in Mushin :  850000.0\n",
      "This is the median for 4 bedroom in Mushin :  0\n",
      "This is the median for 5 bedroom in Mushin :  0\n",
      "This is the median for 1 bedroom in Ijede :  200000.0\n",
      "This is the median for 2 bedroom in Ijede :  0\n",
      "This is the median for 3 bedroom in Ijede :  0\n",
      "This is the median for 4 bedroom in Ijede :  0\n",
      "This is the median for 5 bedroom in Ijede :  0\n",
      "This is the median for 1 bedroom in Ayobo :  250000.0\n",
      "This is the median for 2 bedroom in Ayobo :  500000.0\n",
      "This is the median for 3 bedroom in Ayobo :  600000.0\n",
      "This is the median for 4 bedroom in Ayobo :  0\n",
      "This is the median for 5 bedroom in Ayobo :  0\n",
      "This is the median for 1 bedroom in Ipaja :  300000.0\n",
      "This is the median for 2 bedroom in Ipaja :  650000.0\n",
      "This is the median for 3 bedroom in Ipaja :  800000.0\n",
      "This is the median for 4 bedroom in Ipaja :  0\n",
      "This is the median for 5 bedroom in Ipaja :  0\n",
      "This is the median for 1 bedroom in Ikotun :  225000.0\n",
      "This is the median for 2 bedroom in Ikotun :  500000.0\n",
      "This is the median for 3 bedroom in Ikotun :  675000.0\n",
      "This is the median for 4 bedroom in Ikotun :  0\n",
      "This is the median for 5 bedroom in Ikotun :  0\n",
      "This is the median for 1 bedroom in City :  0\n",
      "This is the median for 2 bedroom in City :  0\n",
      "This is the median for 3 bedroom in City :  0\n",
      "This is the median for 4 bedroom in City :  0\n",
      "This is the median for 5 bedroom in City :  0\n",
      "This is the median for 1 bedroom in Alimosho :  350000.0\n",
      "This is the median for 2 bedroom in Alimosho :  900000.0\n",
      "This is the median for 3 bedroom in Alimosho :  900000.0\n",
      "This is the median for 4 bedroom in Alimosho :  0\n",
      "This is the median for 5 bedroom in Alimosho :  650000.0\n",
      "This is the median for 1 bedroom in Ojo :  125200000.0\n",
      "This is the median for 2 bedroom in Ojo :  400000.0\n",
      "This is the median for 3 bedroom in Ojo :  0\n",
      "This is the median for 4 bedroom in Ojo :  0\n",
      "This is the median for 5 bedroom in Ojo :  0\n",
      "This is the median for 1 bedroom in Ifako-Ijaiye :  300000.0\n",
      "This is the median for 2 bedroom in Ifako-Ijaiye :  825000.0\n",
      "This is the median for 3 bedroom in Ifako-Ijaiye :  1300000.0\n",
      "This is the median for 4 bedroom in Ifako-Ijaiye :  0\n",
      "This is the median for 5 bedroom in Ifako-Ijaiye :  0\n",
      "This is the median for 1 bedroom in Isheri :  0\n",
      "This is the median for 2 bedroom in Isheri :  0\n",
      "This is the median for 3 bedroom in Isheri :  0\n",
      "This is the median for 4 bedroom in Isheri :  0\n",
      "This is the median for 5 bedroom in Isheri :  0\n",
      "This is the median for 1 bedroom in Ijaiye :  0\n",
      "This is the median for 2 bedroom in Ijaiye :  0\n",
      "This is the median for 3 bedroom in Ijaiye :  0\n",
      "This is the median for 4 bedroom in Ijaiye :  1500000.0\n",
      "This is the median for 5 bedroom in Ijaiye :  0\n",
      "This is the median for 1 bedroom in Epe :  235000.0\n",
      "This is the median for 2 bedroom in Epe :  350000.0\n",
      "This is the median for 3 bedroom in Epe :  0\n",
      "This is the median for 4 bedroom in Epe :  0\n"
     ]
    },
    {
     "name": "stdout",
     "output_type": "stream",
     "text": [
      "This is the median for 5 bedroom in Epe :  0\n",
      "This is the median for 1 bedroom in Island :  25000.0\n",
      "This is the median for 2 bedroom in Island :  1200000.0\n",
      "This is the median for 3 bedroom in Island :  1400000.0\n",
      "This is the median for 4 bedroom in Island :  0\n",
      "This is the median for 5 bedroom in Island :  0\n",
      "This is the median for 1 bedroom in Oshodi :  0\n",
      "This is the median for 2 bedroom in Oshodi :  1000000.0\n",
      "This is the median for 3 bedroom in Oshodi :  1200000.0\n",
      "This is the median for 4 bedroom in Oshodi :  3800000.0\n",
      "This is the median for 5 bedroom in Oshodi :  0\n",
      "This is the median for 1 bedroom in Idimu :  0\n",
      "This is the median for 2 bedroom in Idimu :  700000.0\n",
      "This is the median for 3 bedroom in Idimu :  0\n",
      "This is the median for 4 bedroom in Idimu :  0\n",
      "This is the median for 5 bedroom in Idimu :  0\n",
      "This is the median for 1 bedroom in Apapa :  0\n",
      "This is the median for 2 bedroom in Apapa :  0\n",
      "This is the median for 3 bedroom in Apapa :  4000000.0\n",
      "This is the median for 4 bedroom in Apapa :  4000000.0\n",
      "This is the median for 5 bedroom in Apapa :  0\n"
     ]
    }
   ],
   "source": [
    "property_price = []\n",
    "import numpy as np\n",
    "for location in ['Ikoyi', 'Lekki', 'Ajah', 'Victoria Island', 'Shomolu', 'Maryland',\n",
    "       'Surulere', 'Odofin', 'Ojodu', 'Yaba', 'Gbagada', 'Ikeja', 'Ojota',\n",
    "       'Kosofe', 'Magodo', 'Agege', 'Ikorodu', 'Ketu', 'Ogudu', 'North',\n",
    "       'Ilupeju', 'Isolo', 'Mushin', 'Ijede', 'Ayobo', 'Ipaja', 'Ikotun',\n",
    "       'City', 'Alimosho', 'Ojo', 'Ifako-Ijaiye', 'Isheri', 'Ijaiye',\n",
    "       'Epe', 'Island', 'Oshodi', 'Idimu', 'Apapa']:\n",
    "    for i in range(1,6):\n",
    "        d = {}\n",
    "        d['city'] = location\n",
    "        d['bedspace'] = i\n",
    "        try:\n",
    "            d['price_per_bedroom'] = np.percentile(prop2['price'][(prop2['city']==location)&(prop2['bedrooms']==i)],50)\n",
    "        except (IndexError,TypeError) as e:\n",
    "            d['price_per_bedroom'] = 0\n",
    "        property_price.append(d)\n",
    "        try:\n",
    "            print(\"This is the median for {bed} bedroom in {location} : \".format(bed = i,location = location) ,np.percentile(prop2['price'][(prop2['city']==location)&(prop2['bedrooms']==i)],50))\n",
    "        except (IndexError,TypeError) as e:\n",
    "            print(\"This is the median for {bed} bedroom in {location} : \".format(bed = i,location = location) ,0)"
   ]
  },
  {
   "cell_type": "code",
   "execution_count": 28,
   "metadata": {},
   "outputs": [
    {
     "data": {
      "text/html": [
       "<div>\n",
       "<style scoped>\n",
       "    .dataframe tbody tr th:only-of-type {\n",
       "        vertical-align: middle;\n",
       "    }\n",
       "\n",
       "    .dataframe tbody tr th {\n",
       "        vertical-align: top;\n",
       "    }\n",
       "\n",
       "    .dataframe thead th {\n",
       "        text-align: right;\n",
       "    }\n",
       "</style>\n",
       "<table border=\"1\" class=\"dataframe\">\n",
       "  <thead>\n",
       "    <tr style=\"text-align: right;\">\n",
       "      <th></th>\n",
       "      <th>city</th>\n",
       "      <th>bedspace</th>\n",
       "      <th>price_per_bedroom</th>\n",
       "    </tr>\n",
       "  </thead>\n",
       "  <tbody>\n",
       "    <tr>\n",
       "      <th>0</th>\n",
       "      <td>Ikoyi</td>\n",
       "      <td>1</td>\n",
       "      <td>4000000.0</td>\n",
       "    </tr>\n",
       "    <tr>\n",
       "      <th>1</th>\n",
       "      <td>Ikoyi</td>\n",
       "      <td>2</td>\n",
       "      <td>8000000.0</td>\n",
       "    </tr>\n",
       "    <tr>\n",
       "      <th>2</th>\n",
       "      <td>Ikoyi</td>\n",
       "      <td>3</td>\n",
       "      <td>11000000.0</td>\n",
       "    </tr>\n",
       "    <tr>\n",
       "      <th>3</th>\n",
       "      <td>Ikoyi</td>\n",
       "      <td>4</td>\n",
       "      <td>13000000.0</td>\n",
       "    </tr>\n",
       "    <tr>\n",
       "      <th>4</th>\n",
       "      <td>Ikoyi</td>\n",
       "      <td>5</td>\n",
       "      <td>20000000.0</td>\n",
       "    </tr>\n",
       "    <tr>\n",
       "      <th>...</th>\n",
       "      <td>...</td>\n",
       "      <td>...</td>\n",
       "      <td>...</td>\n",
       "    </tr>\n",
       "    <tr>\n",
       "      <th>185</th>\n",
       "      <td>Apapa</td>\n",
       "      <td>1</td>\n",
       "      <td>0.0</td>\n",
       "    </tr>\n",
       "    <tr>\n",
       "      <th>186</th>\n",
       "      <td>Apapa</td>\n",
       "      <td>2</td>\n",
       "      <td>0.0</td>\n",
       "    </tr>\n",
       "    <tr>\n",
       "      <th>187</th>\n",
       "      <td>Apapa</td>\n",
       "      <td>3</td>\n",
       "      <td>4000000.0</td>\n",
       "    </tr>\n",
       "    <tr>\n",
       "      <th>188</th>\n",
       "      <td>Apapa</td>\n",
       "      <td>4</td>\n",
       "      <td>4000000.0</td>\n",
       "    </tr>\n",
       "    <tr>\n",
       "      <th>189</th>\n",
       "      <td>Apapa</td>\n",
       "      <td>5</td>\n",
       "      <td>0.0</td>\n",
       "    </tr>\n",
       "  </tbody>\n",
       "</table>\n",
       "<p>190 rows × 3 columns</p>\n",
       "</div>"
      ],
      "text/plain": [
       "      city  bedspace  price_per_bedroom\n",
       "0    Ikoyi         1          4000000.0\n",
       "1    Ikoyi         2          8000000.0\n",
       "2    Ikoyi         3         11000000.0\n",
       "3    Ikoyi         4         13000000.0\n",
       "4    Ikoyi         5         20000000.0\n",
       "..     ...       ...                ...\n",
       "185  Apapa         1                0.0\n",
       "186  Apapa         2                0.0\n",
       "187  Apapa         3          4000000.0\n",
       "188  Apapa         4          4000000.0\n",
       "189  Apapa         5                0.0\n",
       "\n",
       "[190 rows x 3 columns]"
      ]
     },
     "execution_count": 28,
     "metadata": {},
     "output_type": "execute_result"
    }
   ],
   "source": [
    "pd.DataFrame(property_price)"
   ]
  },
  {
   "cell_type": "code",
   "execution_count": 29,
   "metadata": {},
   "outputs": [
    {
     "data": {
      "text/html": [
       "<div>\n",
       "<style scoped>\n",
       "    .dataframe tbody tr th:only-of-type {\n",
       "        vertical-align: middle;\n",
       "    }\n",
       "\n",
       "    .dataframe tbody tr th {\n",
       "        vertical-align: top;\n",
       "    }\n",
       "\n",
       "    .dataframe thead th {\n",
       "        text-align: right;\n",
       "    }\n",
       "</style>\n",
       "<table border=\"1\" class=\"dataframe\">\n",
       "  <thead>\n",
       "    <tr style=\"text-align: right;\">\n",
       "      <th></th>\n",
       "      <th>price_per_bedroom</th>\n",
       "      <th>locationbed</th>\n",
       "    </tr>\n",
       "  </thead>\n",
       "  <tbody>\n",
       "    <tr>\n",
       "      <th>0</th>\n",
       "      <td>4000000.0</td>\n",
       "      <td>Ikoyi1</td>\n",
       "    </tr>\n",
       "    <tr>\n",
       "      <th>1</th>\n",
       "      <td>8000000.0</td>\n",
       "      <td>Ikoyi2</td>\n",
       "    </tr>\n",
       "    <tr>\n",
       "      <th>2</th>\n",
       "      <td>11000000.0</td>\n",
       "      <td>Ikoyi3</td>\n",
       "    </tr>\n",
       "    <tr>\n",
       "      <th>3</th>\n",
       "      <td>13000000.0</td>\n",
       "      <td>Ikoyi4</td>\n",
       "    </tr>\n",
       "    <tr>\n",
       "      <th>4</th>\n",
       "      <td>20000000.0</td>\n",
       "      <td>Ikoyi5</td>\n",
       "    </tr>\n",
       "  </tbody>\n",
       "</table>\n",
       "</div>"
      ],
      "text/plain": [
       "   price_per_bedroom locationbed\n",
       "0          4000000.0      Ikoyi1\n",
       "1          8000000.0      Ikoyi2\n",
       "2         11000000.0      Ikoyi3\n",
       "3         13000000.0      Ikoyi4\n",
       "4         20000000.0      Ikoyi5"
      ]
     },
     "execution_count": 29,
     "metadata": {},
     "output_type": "execute_result"
    }
   ],
   "source": [
    "#save the output in a dataframe and in order to merge with original dataframe\n",
    "property_price=pd.DataFrame(property_price)\n",
    "property_price['locationbed'] = property_price['city'] + property_price['bedspace'].astype(str)\n",
    "property_price = property_price.drop([\"city\",\"bedspace\"],axis=1)\n",
    "property_price.head()"
   ]
  },
  {
   "cell_type": "code",
   "execution_count": 30,
   "metadata": {},
   "outputs": [
    {
     "data": {
      "image/png": "[encoded data removed]",
      "text/plain": [
       "<Figure size 1440x720 with 1 Axes>"
      ]
     },
     "metadata": {
      "needs_background": "light"
     },
     "output_type": "display_data"
    }
   ],
   "source": [
    "plt.figure(figsize=(20,10))\n",
    "ax = sns.barplot(y='price_per_bedroom', x='locationbed', data=property_price.tail(50))\n",
    "ax.set_xticklabels(ax.get_xticklabels(),rotation=40,ha='right')\n",
    "plt.show()"
   ]
  },
  {
   "cell_type": "markdown",
   "metadata": {},
   "source": [
    "### Removing Outliers"
   ]
  },
  {
   "cell_type": "code",
   "execution_count": 31,
   "metadata": {},
   "outputs": [
    {
     "data": {
      "text/plain": [
       "city\n",
       "Ikoyi                15000000000\n",
       "Victoria Island       8000000000\n",
       "Lekki                 3000000000\n",
       "Ajah                   850000000\n",
       "Ikeja                  450000000\n",
       "Ojo                    250000000\n",
       "Ketu                   170000000\n",
       "Port Harcourt          120000000\n",
       "Abuja                   60000000\n",
       "Magodo                  55000000\n",
       "Isolo                   50000000\n",
       "Ibadan                  49000000\n",
       "Mushin                  30000000\n",
       "Eko Atlantic City       30000000\n",
       "Ikorodu Road            30000000\n",
       "Ogun                    15000000\n",
       "Oshodi                  15000000\n",
       "Lagos Extension         14000000\n",
       "Yaba                    13000000\n",
       "Surulere                10000000\n",
       "Ilupeju                  9200000\n",
       "Maryland                 7000000\n",
       "Festac                   5100000\n",
       "Gbagada                  4800000\n",
       "Apapa                    4000000\n",
       "Ogudu                    3600000\n",
       "North                    3000000\n",
       "Shomolu                  3000000\n",
       "Agege                    2500000\n",
       "Ojodu                    2500000\n",
       "Odofin                   2200000\n",
       "Alimosho                 1500000\n",
       "Island                   1500000\n",
       "Ijaiye                   1500000\n",
       "Ifako-Ijaiye             1300000\n",
       "Ipaja                    1200000\n",
       "Ikorodu                  1100000\n",
       "Kosofe                    800000\n",
       "Ikotun                    800000\n",
       "Ayobo                     750000\n",
       "Idimu                     700000\n",
       "Ojota                     550000\n",
       "Epe                       350000\n",
       "Ijede                     250000\n",
       "Name: price, dtype: int64"
      ]
     },
     "execution_count": 31,
     "metadata": {},
     "output_type": "execute_result"
    }
   ],
   "source": [
    "prop.groupby('city')['price'].max().sort_values(ascending=False)"
   ]
  },
  {
   "cell_type": "markdown",
   "metadata": {},
   "source": [
    "### These Prices are too high for rent. These are outliers"
   ]
  },
  {
   "cell_type": "code",
   "execution_count": 32,
   "metadata": {},
   "outputs": [
    {
     "data": {
      "text/plain": [
       "(9979, 12)"
      ]
     },
     "execution_count": 32,
     "metadata": {},
     "output_type": "execute_result"
    }
   ],
   "source": [
    "prop2.shape"
   ]
  },
  {
   "cell_type": "code",
   "execution_count": 87,
   "metadata": {},
   "outputs": [],
   "source": [
    "prop3 = prop2[~(prop2['price']>10000000)]"
   ]
  },
  {
   "cell_type": "code",
   "execution_count": 88,
   "metadata": {},
   "outputs": [
    {
     "data": {
      "text/plain": [
       "(8266, 12)"
      ]
     },
     "execution_count": 88,
     "metadata": {},
     "output_type": "execute_result"
    }
   ],
   "source": [
    "prop3.shape"
   ]
  },
  {
   "cell_type": "code",
   "execution_count": 89,
   "metadata": {},
   "outputs": [
    {
     "data": {
      "text/plain": [
       "(7967, 12)"
      ]
     },
     "execution_count": 89,
     "metadata": {},
     "output_type": "execute_result"
    }
   ],
   "source": [
    "prop4 = prop3[~(prop3['bedrooms']>=5)]\n",
    "prop4.shape"
   ]
  },
  {
   "cell_type": "code",
   "execution_count": 90,
   "metadata": {},
   "outputs": [
    {
     "data": {
      "text/plain": [
       "(6632, 12)"
      ]
     },
     "execution_count": 90,
     "metadata": {},
     "output_type": "execute_result"
    }
   ],
   "source": [
    "prop5 = prop4[~(prop4['bathrooms']>=4)]\n",
    "prop5.shape"
   ]
  },
  {
   "cell_type": "code",
   "execution_count": 91,
   "metadata": {},
   "outputs": [
    {
     "data": {
      "text/plain": [
       "(6622, 12)"
      ]
     },
     "execution_count": 91,
     "metadata": {},
     "output_type": "execute_result"
    }
   ],
   "source": [
    "prop6 = prop5[~(prop5['toilets']>=5)]\n",
    "prop6.shape"
   ]
  },
  {
   "cell_type": "code",
   "execution_count": 92,
   "metadata": {},
   "outputs": [],
   "source": [
    "def create_distplot(data,col):\n",
    "    for i in range(len(col)):\n",
    "        plt.figure()\n",
    "        plot = data[col[i]].plot(kind='hist')\n",
    "        plt.title(col[i])\n",
    "        plt.show()"
   ]
  },
  {
   "cell_type": "code",
   "execution_count": 93,
   "metadata": {},
   "outputs": [],
   "source": [
    "cols = ['bedrooms', 'bathrooms', 'toilets', 'price']"
   ]
  },
  {
   "cell_type": "code",
   "execution_count": 94,
   "metadata": {},
   "outputs": [],
   "source": [
    "data = prop6.loc[:,['bedrooms', 'bathrooms', 'toilets', 'price']]"
   ]
  },
  {
   "cell_type": "code",
   "execution_count": 96,
   "metadata": {
    "scrolled": true
   },
   "outputs": [
    {
     "data": {
      "image/png": "[encoded data removed]",
      "text/plain": [
       "<Figure size 432x288 with 1 Axes>"
      ]
     },
     "metadata": {
      "needs_background": "light"
     },
     "output_type": "display_data"
    },
    {
     "data": {
      "image/png": "[encoded data removed]",
      "text/plain": [
       "<Figure size 432x288 with 1 Axes>"
      ]
     },
     "metadata": {
      "needs_background": "light"
     },
     "output_type": "display_data"
    },
    {
     "data": {
      "image/png": "[encoded data removed]",
      "text/plain": [
       "<Figure size 432x288 with 1 Axes>"
      ]
     },
     "metadata": {
      "needs_background": "light"
     },
     "output_type": "display_data"
    },
    {
     "data": {
      "image/png": "[encoded data removed]",
      "text/plain": [
       "<Figure size 432x288 with 1 Axes>"
      ]
     },
     "metadata": {
      "needs_background": "light"
     },
     "output_type": "display_data"
    }
   ],
   "source": [
    "create_distplot(data, cols)"
   ]
  },
  {
   "cell_type": "code",
   "execution_count": 97,
   "metadata": {},
   "outputs": [
    {
     "data": {
      "text/plain": [
       "<AxesSubplot:xlabel='bedrooms', ylabel='price'>"
      ]
     },
     "execution_count": 97,
     "metadata": {},
     "output_type": "execute_result"
    },
    {
     "data": {
      "image/png": "[encoded data removed]",
      "text/plain": [
       "<Figure size 432x288 with 1 Axes>"
      ]
     },
     "metadata": {
      "needs_background": "light"
     },
     "output_type": "display_data"
    }
   ],
   "source": [
    "sns.barplot(x='bedrooms',y='price',data=prop6)"
   ]
  },
  {
   "cell_type": "code",
   "execution_count": 99,
   "metadata": {},
   "outputs": [
    {
     "data": {
      "text/plain": [
       "<AxesSubplot:xlabel='bathrooms', ylabel='price'>"
      ]
     },
     "execution_count": 99,
     "metadata": {},
     "output_type": "execute_result"
    },
    {
     "data": {
      "image/png": "[encoded data removed]",
      "text/plain": [
       "<Figure size 432x288 with 1 Axes>"
      ]
     },
     "metadata": {
      "needs_background": "light"
     },
     "output_type": "display_data"
    }
   ],
   "source": [
    "sns.barplot(x='bathrooms',y='price',data=prop6)"
   ]
  },
  {
   "cell_type": "markdown",
   "metadata": {},
   "source": [
    "### Also, we check if number of bathrooms is greater than bedrooms and also if number of toilets is less than bathrooms"
   ]
  },
  {
   "cell_type": "code",
   "execution_count": 100,
   "metadata": {},
   "outputs": [
    {
     "data": {
      "text/plain": [
       "(6622, 12)"
      ]
     },
     "execution_count": 100,
     "metadata": {},
     "output_type": "execute_result"
    }
   ],
   "source": [
    "prop6.shape"
   ]
  },
  {
   "cell_type": "code",
   "execution_count": 101,
   "metadata": {},
   "outputs": [],
   "source": [
    "prop7 = prop6[~(prop6['bathrooms']>prop6['bedrooms']+2)]"
   ]
  },
  {
   "cell_type": "code",
   "execution_count": 102,
   "metadata": {},
   "outputs": [
    {
     "data": {
      "text/plain": [
       "(6622, 12)"
      ]
     },
     "execution_count": 102,
     "metadata": {},
     "output_type": "execute_result"
    }
   ],
   "source": [
    "prop7.shape"
   ]
  },
  {
   "cell_type": "code",
   "execution_count": 103,
   "metadata": {},
   "outputs": [],
   "source": [
    "prop8 = prop7[~(prop7['bathrooms']>prop7['toilets']+2)]"
   ]
  },
  {
   "cell_type": "code",
   "execution_count": 104,
   "metadata": {},
   "outputs": [
    {
     "data": {
      "text/plain": [
       "(6622, 12)"
      ]
     },
     "execution_count": 104,
     "metadata": {},
     "output_type": "execute_result"
    }
   ],
   "source": [
    "prop8.shape"
   ]
  },
  {
   "cell_type": "code",
   "execution_count": 105,
   "metadata": {},
   "outputs": [
    {
     "data": {
      "text/html": [
       "<div>\n",
       "<style scoped>\n",
       "    .dataframe tbody tr th:only-of-type {\n",
       "        vertical-align: middle;\n",
       "    }\n",
       "\n",
       "    .dataframe tbody tr th {\n",
       "        vertical-align: top;\n",
       "    }\n",
       "\n",
       "    .dataframe thead th {\n",
       "        text-align: right;\n",
       "    }\n",
       "</style>\n",
       "<table border=\"1\" class=\"dataframe\">\n",
       "  <thead>\n",
       "    <tr style=\"text-align: right;\">\n",
       "      <th></th>\n",
       "      <th>bedrooms</th>\n",
       "      <th>bathrooms</th>\n",
       "      <th>toilets</th>\n",
       "      <th>city</th>\n",
       "      <th>price</th>\n",
       "      <th>estate_flag</th>\n",
       "      <th>terrace_flag</th>\n",
       "      <th>luxury_flag</th>\n",
       "      <th>serviced_flag</th>\n",
       "      <th>miniflat_flag</th>\n",
       "      <th>selfcontain_flag</th>\n",
       "      <th>island_flag</th>\n",
       "    </tr>\n",
       "  </thead>\n",
       "  <tbody>\n",
       "    <tr>\n",
       "      <th>3</th>\n",
       "      <td>3</td>\n",
       "      <td>3</td>\n",
       "      <td>4</td>\n",
       "      <td>Ikoyi</td>\n",
       "      <td>10000000</td>\n",
       "      <td>0</td>\n",
       "      <td>0</td>\n",
       "      <td>1</td>\n",
       "      <td>0</td>\n",
       "      <td>0</td>\n",
       "      <td>0</td>\n",
       "      <td>1</td>\n",
       "    </tr>\n",
       "    <tr>\n",
       "      <th>6</th>\n",
       "      <td>3</td>\n",
       "      <td>3</td>\n",
       "      <td>4</td>\n",
       "      <td>Ikoyi</td>\n",
       "      <td>8000000</td>\n",
       "      <td>0</td>\n",
       "      <td>0</td>\n",
       "      <td>1</td>\n",
       "      <td>0</td>\n",
       "      <td>0</td>\n",
       "      <td>0</td>\n",
       "      <td>1</td>\n",
       "    </tr>\n",
       "    <tr>\n",
       "      <th>18</th>\n",
       "      <td>2</td>\n",
       "      <td>2</td>\n",
       "      <td>3</td>\n",
       "      <td>Ikoyi</td>\n",
       "      <td>3000000</td>\n",
       "      <td>1</td>\n",
       "      <td>0</td>\n",
       "      <td>1</td>\n",
       "      <td>0</td>\n",
       "      <td>0</td>\n",
       "      <td>0</td>\n",
       "      <td>1</td>\n",
       "    </tr>\n",
       "    <tr>\n",
       "      <th>22</th>\n",
       "      <td>4</td>\n",
       "      <td>3</td>\n",
       "      <td>4</td>\n",
       "      <td>Victoria Island</td>\n",
       "      <td>5500000</td>\n",
       "      <td>0</td>\n",
       "      <td>1</td>\n",
       "      <td>0</td>\n",
       "      <td>0</td>\n",
       "      <td>0</td>\n",
       "      <td>0</td>\n",
       "      <td>1</td>\n",
       "    </tr>\n",
       "    <tr>\n",
       "      <th>23</th>\n",
       "      <td>3</td>\n",
       "      <td>3</td>\n",
       "      <td>4</td>\n",
       "      <td>Victoria Island</td>\n",
       "      <td>4500000</td>\n",
       "      <td>0</td>\n",
       "      <td>0</td>\n",
       "      <td>0</td>\n",
       "      <td>1</td>\n",
       "      <td>0</td>\n",
       "      <td>0</td>\n",
       "      <td>1</td>\n",
       "    </tr>\n",
       "  </tbody>\n",
       "</table>\n",
       "</div>"
      ],
      "text/plain": [
       "    bedrooms  bathrooms  toilets             city     price  estate_flag  \\\n",
       "3          3          3        4            Ikoyi  10000000            0   \n",
       "6          3          3        4            Ikoyi   8000000            0   \n",
       "18         2          2        3            Ikoyi   3000000            1   \n",
       "22         4          3        4  Victoria Island   5500000            0   \n",
       "23         3          3        4  Victoria Island   4500000            0   \n",
       "\n",
       "    terrace_flag  luxury_flag  serviced_flag  miniflat_flag  selfcontain_flag  \\\n",
       "3              0            1              0              0                 0   \n",
       "6              0            1              0              0                 0   \n",
       "18             0            1              0              0                 0   \n",
       "22             1            0              0              0                 0   \n",
       "23             0            0              1              0                 0   \n",
       "\n",
       "    island_flag  \n",
       "3             1  \n",
       "6             1  \n",
       "18            1  \n",
       "22            1  \n",
       "23            1  "
      ]
     },
     "execution_count": 105,
     "metadata": {},
     "output_type": "execute_result"
    }
   ],
   "source": [
    "prop8.head()"
   ]
  },
  {
   "cell_type": "code",
   "execution_count": 106,
   "metadata": {},
   "outputs": [
    {
     "data": {
      "text/html": [
       "<div>\n",
       "<style scoped>\n",
       "    .dataframe tbody tr th:only-of-type {\n",
       "        vertical-align: middle;\n",
       "    }\n",
       "\n",
       "    .dataframe tbody tr th {\n",
       "        vertical-align: top;\n",
       "    }\n",
       "\n",
       "    .dataframe thead th {\n",
       "        text-align: right;\n",
       "    }\n",
       "</style>\n",
       "<table border=\"1\" class=\"dataframe\">\n",
       "  <thead>\n",
       "    <tr style=\"text-align: right;\">\n",
       "      <th></th>\n",
       "      <th>Abuja</th>\n",
       "      <th>Agege</th>\n",
       "      <th>Ajah</th>\n",
       "      <th>Alimosho</th>\n",
       "      <th>Apapa</th>\n",
       "      <th>Ayobo</th>\n",
       "      <th>Epe</th>\n",
       "      <th>Festac</th>\n",
       "      <th>Gbagada</th>\n",
       "      <th>Ibadan</th>\n",
       "      <th>...</th>\n",
       "      <th>Odofin</th>\n",
       "      <th>Ogudu</th>\n",
       "      <th>Ojo</th>\n",
       "      <th>Ojodu</th>\n",
       "      <th>Ojota</th>\n",
       "      <th>Oshodi</th>\n",
       "      <th>Shomolu</th>\n",
       "      <th>Surulere</th>\n",
       "      <th>Victoria Island</th>\n",
       "      <th>Yaba</th>\n",
       "    </tr>\n",
       "  </thead>\n",
       "  <tbody>\n",
       "    <tr>\n",
       "      <th>3</th>\n",
       "      <td>0</td>\n",
       "      <td>0</td>\n",
       "      <td>0</td>\n",
       "      <td>0</td>\n",
       "      <td>0</td>\n",
       "      <td>0</td>\n",
       "      <td>0</td>\n",
       "      <td>0</td>\n",
       "      <td>0</td>\n",
       "      <td>0</td>\n",
       "      <td>...</td>\n",
       "      <td>0</td>\n",
       "      <td>0</td>\n",
       "      <td>0</td>\n",
       "      <td>0</td>\n",
       "      <td>0</td>\n",
       "      <td>0</td>\n",
       "      <td>0</td>\n",
       "      <td>0</td>\n",
       "      <td>0</td>\n",
       "      <td>0</td>\n",
       "    </tr>\n",
       "    <tr>\n",
       "      <th>6</th>\n",
       "      <td>0</td>\n",
       "      <td>0</td>\n",
       "      <td>0</td>\n",
       "      <td>0</td>\n",
       "      <td>0</td>\n",
       "      <td>0</td>\n",
       "      <td>0</td>\n",
       "      <td>0</td>\n",
       "      <td>0</td>\n",
       "      <td>0</td>\n",
       "      <td>...</td>\n",
       "      <td>0</td>\n",
       "      <td>0</td>\n",
       "      <td>0</td>\n",
       "      <td>0</td>\n",
       "      <td>0</td>\n",
       "      <td>0</td>\n",
       "      <td>0</td>\n",
       "      <td>0</td>\n",
       "      <td>0</td>\n",
       "      <td>0</td>\n",
       "    </tr>\n",
       "    <tr>\n",
       "      <th>18</th>\n",
       "      <td>0</td>\n",
       "      <td>0</td>\n",
       "      <td>0</td>\n",
       "      <td>0</td>\n",
       "      <td>0</td>\n",
       "      <td>0</td>\n",
       "      <td>0</td>\n",
       "      <td>0</td>\n",
       "      <td>0</td>\n",
       "      <td>0</td>\n",
       "      <td>...</td>\n",
       "      <td>0</td>\n",
       "      <td>0</td>\n",
       "      <td>0</td>\n",
       "      <td>0</td>\n",
       "      <td>0</td>\n",
       "      <td>0</td>\n",
       "      <td>0</td>\n",
       "      <td>0</td>\n",
       "      <td>0</td>\n",
       "      <td>0</td>\n",
       "    </tr>\n",
       "    <tr>\n",
       "      <th>22</th>\n",
       "      <td>0</td>\n",
       "      <td>0</td>\n",
       "      <td>0</td>\n",
       "      <td>0</td>\n",
       "      <td>0</td>\n",
       "      <td>0</td>\n",
       "      <td>0</td>\n",
       "      <td>0</td>\n",
       "      <td>0</td>\n",
       "      <td>0</td>\n",
       "      <td>...</td>\n",
       "      <td>0</td>\n",
       "      <td>0</td>\n",
       "      <td>0</td>\n",
       "      <td>0</td>\n",
       "      <td>0</td>\n",
       "      <td>0</td>\n",
       "      <td>0</td>\n",
       "      <td>0</td>\n",
       "      <td>1</td>\n",
       "      <td>0</td>\n",
       "    </tr>\n",
       "    <tr>\n",
       "      <th>23</th>\n",
       "      <td>0</td>\n",
       "      <td>0</td>\n",
       "      <td>0</td>\n",
       "      <td>0</td>\n",
       "      <td>0</td>\n",
       "      <td>0</td>\n",
       "      <td>0</td>\n",
       "      <td>0</td>\n",
       "      <td>0</td>\n",
       "      <td>0</td>\n",
       "      <td>...</td>\n",
       "      <td>0</td>\n",
       "      <td>0</td>\n",
       "      <td>0</td>\n",
       "      <td>0</td>\n",
       "      <td>0</td>\n",
       "      <td>0</td>\n",
       "      <td>0</td>\n",
       "      <td>0</td>\n",
       "      <td>1</td>\n",
       "      <td>0</td>\n",
       "    </tr>\n",
       "  </tbody>\n",
       "</table>\n",
       "<p>5 rows × 41 columns</p>\n",
       "</div>"
      ],
      "text/plain": [
       "    Abuja  Agege  Ajah  Alimosho  Apapa  Ayobo  Epe  Festac  Gbagada  Ibadan  \\\n",
       "3       0      0     0         0      0      0    0       0        0       0   \n",
       "6       0      0     0         0      0      0    0       0        0       0   \n",
       "18      0      0     0         0      0      0    0       0        0       0   \n",
       "22      0      0     0         0      0      0    0       0        0       0   \n",
       "23      0      0     0         0      0      0    0       0        0       0   \n",
       "\n",
       "    ...  Odofin  Ogudu  Ojo  Ojodu  Ojota  Oshodi  Shomolu  Surulere  \\\n",
       "3   ...       0      0    0      0      0       0        0         0   \n",
       "6   ...       0      0    0      0      0       0        0         0   \n",
       "18  ...       0      0    0      0      0       0        0         0   \n",
       "22  ...       0      0    0      0      0       0        0         0   \n",
       "23  ...       0      0    0      0      0       0        0         0   \n",
       "\n",
       "    Victoria Island  Yaba  \n",
       "3                 0     0  \n",
       "6                 0     0  \n",
       "18                0     0  \n",
       "22                1     0  \n",
       "23                1     0  \n",
       "\n",
       "[5 rows x 41 columns]"
      ]
     },
     "execution_count": 106,
     "metadata": {},
     "output_type": "execute_result"
    }
   ],
   "source": [
    "dummies = pd.get_dummies(prop8['city'])\n",
    "dummies.head()"
   ]
  },
  {
   "cell_type": "code",
   "execution_count": 108,
   "metadata": {},
   "outputs": [
    {
     "data": {
      "text/html": [
       "<div>\n",
       "<style scoped>\n",
       "    .dataframe tbody tr th:only-of-type {\n",
       "        vertical-align: middle;\n",
       "    }\n",
       "\n",
       "    .dataframe tbody tr th {\n",
       "        vertical-align: top;\n",
       "    }\n",
       "\n",
       "    .dataframe thead th {\n",
       "        text-align: right;\n",
       "    }\n",
       "</style>\n",
       "<table border=\"1\" class=\"dataframe\">\n",
       "  <thead>\n",
       "    <tr style=\"text-align: right;\">\n",
       "      <th></th>\n",
       "      <th>bedrooms</th>\n",
       "      <th>bathrooms</th>\n",
       "      <th>toilets</th>\n",
       "      <th>price</th>\n",
       "      <th>estate_flag</th>\n",
       "      <th>terrace_flag</th>\n",
       "      <th>luxury_flag</th>\n",
       "      <th>serviced_flag</th>\n",
       "      <th>miniflat_flag</th>\n",
       "      <th>selfcontain_flag</th>\n",
       "      <th>...</th>\n",
       "      <th>North</th>\n",
       "      <th>Odofin</th>\n",
       "      <th>Ogudu</th>\n",
       "      <th>Ojo</th>\n",
       "      <th>Ojodu</th>\n",
       "      <th>Ojota</th>\n",
       "      <th>Oshodi</th>\n",
       "      <th>Shomolu</th>\n",
       "      <th>Surulere</th>\n",
       "      <th>Victoria Island</th>\n",
       "    </tr>\n",
       "  </thead>\n",
       "  <tbody>\n",
       "    <tr>\n",
       "      <th>3</th>\n",
       "      <td>3</td>\n",
       "      <td>3</td>\n",
       "      <td>4</td>\n",
       "      <td>10000000</td>\n",
       "      <td>0</td>\n",
       "      <td>0</td>\n",
       "      <td>1</td>\n",
       "      <td>0</td>\n",
       "      <td>0</td>\n",
       "      <td>0</td>\n",
       "      <td>...</td>\n",
       "      <td>0</td>\n",
       "      <td>0</td>\n",
       "      <td>0</td>\n",
       "      <td>0</td>\n",
       "      <td>0</td>\n",
       "      <td>0</td>\n",
       "      <td>0</td>\n",
       "      <td>0</td>\n",
       "      <td>0</td>\n",
       "      <td>0</td>\n",
       "    </tr>\n",
       "    <tr>\n",
       "      <th>6</th>\n",
       "      <td>3</td>\n",
       "      <td>3</td>\n",
       "      <td>4</td>\n",
       "      <td>8000000</td>\n",
       "      <td>0</td>\n",
       "      <td>0</td>\n",
       "      <td>1</td>\n",
       "      <td>0</td>\n",
       "      <td>0</td>\n",
       "      <td>0</td>\n",
       "      <td>...</td>\n",
       "      <td>0</td>\n",
       "      <td>0</td>\n",
       "      <td>0</td>\n",
       "      <td>0</td>\n",
       "      <td>0</td>\n",
       "      <td>0</td>\n",
       "      <td>0</td>\n",
       "      <td>0</td>\n",
       "      <td>0</td>\n",
       "      <td>0</td>\n",
       "    </tr>\n",
       "    <tr>\n",
       "      <th>18</th>\n",
       "      <td>2</td>\n",
       "      <td>2</td>\n",
       "      <td>3</td>\n",
       "      <td>3000000</td>\n",
       "      <td>1</td>\n",
       "      <td>0</td>\n",
       "      <td>1</td>\n",
       "      <td>0</td>\n",
       "      <td>0</td>\n",
       "      <td>0</td>\n",
       "      <td>...</td>\n",
       "      <td>0</td>\n",
       "      <td>0</td>\n",
       "      <td>0</td>\n",
       "      <td>0</td>\n",
       "      <td>0</td>\n",
       "      <td>0</td>\n",
       "      <td>0</td>\n",
       "      <td>0</td>\n",
       "      <td>0</td>\n",
       "      <td>0</td>\n",
       "    </tr>\n",
       "    <tr>\n",
       "      <th>22</th>\n",
       "      <td>4</td>\n",
       "      <td>3</td>\n",
       "      <td>4</td>\n",
       "      <td>5500000</td>\n",
       "      <td>0</td>\n",
       "      <td>1</td>\n",
       "      <td>0</td>\n",
       "      <td>0</td>\n",
       "      <td>0</td>\n",
       "      <td>0</td>\n",
       "      <td>...</td>\n",
       "      <td>0</td>\n",
       "      <td>0</td>\n",
       "      <td>0</td>\n",
       "      <td>0</td>\n",
       "      <td>0</td>\n",
       "      <td>0</td>\n",
       "      <td>0</td>\n",
       "      <td>0</td>\n",
       "      <td>0</td>\n",
       "      <td>1</td>\n",
       "    </tr>\n",
       "    <tr>\n",
       "      <th>23</th>\n",
       "      <td>3</td>\n",
       "      <td>3</td>\n",
       "      <td>4</td>\n",
       "      <td>4500000</td>\n",
       "      <td>0</td>\n",
       "      <td>0</td>\n",
       "      <td>0</td>\n",
       "      <td>1</td>\n",
       "      <td>0</td>\n",
       "      <td>0</td>\n",
       "      <td>...</td>\n",
       "      <td>0</td>\n",
       "      <td>0</td>\n",
       "      <td>0</td>\n",
       "      <td>0</td>\n",
       "      <td>0</td>\n",
       "      <td>0</td>\n",
       "      <td>0</td>\n",
       "      <td>0</td>\n",
       "      <td>0</td>\n",
       "      <td>1</td>\n",
       "    </tr>\n",
       "  </tbody>\n",
       "</table>\n",
       "<p>5 rows × 51 columns</p>\n",
       "</div>"
      ],
      "text/plain": [
       "    bedrooms  bathrooms  toilets     price  estate_flag  terrace_flag  \\\n",
       "3          3          3        4  10000000            0             0   \n",
       "6          3          3        4   8000000            0             0   \n",
       "18         2          2        3   3000000            1             0   \n",
       "22         4          3        4   5500000            0             1   \n",
       "23         3          3        4   4500000            0             0   \n",
       "\n",
       "    luxury_flag  serviced_flag  miniflat_flag  selfcontain_flag  ...  North  \\\n",
       "3             1              0              0                 0  ...      0   \n",
       "6             1              0              0                 0  ...      0   \n",
       "18            1              0              0                 0  ...      0   \n",
       "22            0              0              0                 0  ...      0   \n",
       "23            0              1              0                 0  ...      0   \n",
       "\n",
       "    Odofin  Ogudu  Ojo  Ojodu  Ojota  Oshodi  Shomolu  Surulere  \\\n",
       "3        0      0    0      0      0       0        0         0   \n",
       "6        0      0    0      0      0       0        0         0   \n",
       "18       0      0    0      0      0       0        0         0   \n",
       "22       0      0    0      0      0       0        0         0   \n",
       "23       0      0    0      0      0       0        0         0   \n",
       "\n",
       "    Victoria Island  \n",
       "3                 0  \n",
       "6                 0  \n",
       "18                0  \n",
       "22                1  \n",
       "23                1  \n",
       "\n",
       "[5 rows x 51 columns]"
      ]
     },
     "execution_count": 108,
     "metadata": {},
     "output_type": "execute_result"
    }
   ],
   "source": [
    "prop9 = pd.concat([prop8, dummies.drop('Yaba',axis=1)], axis=1).drop(\"city\",axis=1)\n",
    "prop9.head()"
   ]
  },
  {
   "cell_type": "code",
   "execution_count": 109,
   "metadata": {},
   "outputs": [
    {
     "data": {
      "text/plain": [
       "(6622, 51)"
      ]
     },
     "execution_count": 109,
     "metadata": {},
     "output_type": "execute_result"
    }
   ],
   "source": [
    "prop9.shape"
   ]
  },
  {
   "cell_type": "code",
   "execution_count": 110,
   "metadata": {},
   "outputs": [],
   "source": [
    "X = prop9.drop('price', axis=1)\n",
    "y = prop9['price']"
   ]
  },
  {
   "cell_type": "code",
   "execution_count": 111,
   "metadata": {},
   "outputs": [],
   "source": [
    "X_train, X_test, y_train, y_test = train_test_split(X, y, test_size=0.2, random_state=42)"
   ]
  },
  {
   "cell_type": "code",
   "execution_count": 112,
   "metadata": {},
   "outputs": [
    {
     "data": {
      "text/plain": [
       "-3.9737599482750177e+18"
      ]
     },
     "execution_count": 112,
     "metadata": {},
     "output_type": "execute_result"
    }
   ],
   "source": [
    "# Linear Regression\n",
    "lr = LinearRegression()\n",
    "lr.fit(X_train, y_train)\n",
    "lr.score(X_test, y_test)"
   ]
  },
  {
   "cell_type": "code",
   "execution_count": 113,
   "metadata": {},
   "outputs": [
    {
     "data": {
      "text/plain": [
       "ShuffleSplit(n_splits=5, random_state=0, test_size=0.2, train_size=None)"
      ]
     },
     "execution_count": 113,
     "metadata": {},
     "output_type": "execute_result"
    }
   ],
   "source": [
    "cv = ShuffleSplit(n_splits=5, test_size=0.2, random_state=0)\n",
    "cv\n",
    "# ShuffleSplit will randomize the sample so each of the fold have eqaul distribution of my data samples"
   ]
  },
  {
   "cell_type": "code",
   "execution_count": 114,
   "metadata": {},
   "outputs": [
    {
     "data": {
      "text/plain": [
       "array([-3.22214883e+09, -2.20785838e+15, -4.97800687e+19,  6.93490747e-01,\n",
       "       -3.55645102e+19])"
      ]
     },
     "execution_count": 114,
     "metadata": {},
     "output_type": "execute_result"
    }
   ],
   "source": [
    "cross_val_score(lr, X, y, cv=cv)"
   ]
  },
  {
   "cell_type": "markdown",
   "metadata": {},
   "source": [
    "## Hyperparamater tunning\n",
    "\n",
    "### Using Grid Search CV to find the best model"
   ]
  },
  {
   "cell_type": "code",
   "execution_count": 115,
   "metadata": {},
   "outputs": [],
   "source": [
    "def find_best_model(X,y):\n",
    "    models = {\n",
    "        'linear_regression':{\n",
    "            'model':LinearRegression(),\n",
    "            'params':{'normalize':[True, False]\n",
    "            }\n",
    "        },\n",
    "        'random_forest':{\n",
    "            'model':RandomForestRegressor(),\n",
    "            'params':{\n",
    "                'criterion' :['mse']\n",
    "                }\n",
    "        },\n",
    "        'lasso':{\n",
    "            'model':Lasso(),\n",
    "            'params':{\n",
    "                'alpha':[1,2],\n",
    "                'selection':['random','cyclic']\n",
    "            }\n",
    "        },\n",
    "        'decision_tree':{\n",
    "            'model':DecisionTreeRegressor(),\n",
    "            'params':{\n",
    "                'criterion':['mse','friedman_mse'],\n",
    "                'splitter':['best','random']\n",
    "            }\n",
    "        }\n",
    "    }\n",
    "    scores = []\n",
    "    cv = ShuffleSplit(n_splits=5, test_size=0.2, random_state=0)\n",
    "    for model_name, config in models.items():\n",
    "        gridsearch = GridSearchCV(config['model'], config['params'], cv=cv, return_train_score=False)\n",
    "        gridsearch.fit(X,y)\n",
    "        scores.append({\n",
    "            'model': model_name,\n",
    "            'best_score':gridsearch.best_score_,\n",
    "            'best_params':gridsearch.best_params_\n",
    "        })\n",
    "        \n",
    "    return pd.DataFrame(scores,columns=['model','best_score','best_params'])"
   ]
  },
  {
   "cell_type": "code",
   "execution_count": 116,
   "metadata": {},
   "outputs": [
    {
     "data": {
      "text/html": [
       "<div>\n",
       "<style scoped>\n",
       "    .dataframe tbody tr th:only-of-type {\n",
       "        vertical-align: middle;\n",
       "    }\n",
       "\n",
       "    .dataframe tbody tr th {\n",
       "        vertical-align: top;\n",
       "    }\n",
       "\n",
       "    .dataframe thead th {\n",
       "        text-align: right;\n",
       "    }\n",
       "</style>\n",
       "<table border=\"1\" class=\"dataframe\">\n",
       "  <thead>\n",
       "    <tr style=\"text-align: right;\">\n",
       "      <th></th>\n",
       "      <th>model</th>\n",
       "      <th>best_score</th>\n",
       "      <th>best_params</th>\n",
       "    </tr>\n",
       "  </thead>\n",
       "  <tbody>\n",
       "    <tr>\n",
       "      <th>0</th>\n",
       "      <td>linear_regression</td>\n",
       "      <td>-1.706936e+19</td>\n",
       "      <td>{'normalize': False}</td>\n",
       "    </tr>\n",
       "    <tr>\n",
       "      <th>1</th>\n",
       "      <td>random_forest</td>\n",
       "      <td>7.329328e-01</td>\n",
       "      <td>{'criterion': 'mse'}</td>\n",
       "    </tr>\n",
       "    <tr>\n",
       "      <th>2</th>\n",
       "      <td>lasso</td>\n",
       "      <td>6.899833e-01</td>\n",
       "      <td>{'alpha': 2, 'selection': 'cyclic'}</td>\n",
       "    </tr>\n",
       "    <tr>\n",
       "      <th>3</th>\n",
       "      <td>decision_tree</td>\n",
       "      <td>7.275007e-01</td>\n",
       "      <td>{'criterion': 'friedman_mse', 'splitter': 'ran...</td>\n",
       "    </tr>\n",
       "  </tbody>\n",
       "</table>\n",
       "</div>"
      ],
      "text/plain": [
       "               model    best_score  \\\n",
       "0  linear_regression -1.706936e+19   \n",
       "1      random_forest  7.329328e-01   \n",
       "2              lasso  6.899833e-01   \n",
       "3      decision_tree  7.275007e-01   \n",
       "\n",
       "                                         best_params  \n",
       "0                               {'normalize': False}  \n",
       "1                               {'criterion': 'mse'}  \n",
       "2                {'alpha': 2, 'selection': 'cyclic'}  \n",
       "3  {'criterion': 'friedman_mse', 'splitter': 'ran...  "
      ]
     },
     "execution_count": 116,
     "metadata": {},
     "output_type": "execute_result"
    }
   ],
   "source": [
    "find_best_model(X,y)"
   ]
  },
  {
   "cell_type": "code",
   "execution_count": 84,
   "metadata": {},
   "outputs": [
    {
     "data": {
      "text/plain": [
       "0.7555899871329235"
      ]
     },
     "execution_count": 84,
     "metadata": {},
     "output_type": "execute_result"
    }
   ],
   "source": [
    "rfr = RandomForestRegressor(criterion='mse',random_state=42)\n",
    "rfr.fit(X_train, y_train)\n",
    "rfr.score(X_test, y_test)"
   ]
  },
  {
   "cell_type": "code",
   "execution_count": 85,
   "metadata": {},
   "outputs": [
    {
     "data": {
      "text/plain": [
       "0.7470428219549591"
      ]
     },
     "execution_count": 85,
     "metadata": {},
     "output_type": "execute_result"
    }
   ],
   "source": [
    "dtr = DecisionTreeRegressor(criterion='mse', splitter='best',random_state=42)\n",
    "dtr.fit(X_train,y_train)\n",
    "dtr.score(X_test,y_test)"
   ]
  },
  {
   "cell_type": "code",
   "execution_count": 86,
   "metadata": {},
   "outputs": [
    {
     "data": {
      "text/plain": [
       "<matplotlib.collections.PathCollection at 0x13578312788>"
      ]
     },
     "execution_count": 86,
     "metadata": {},
     "output_type": "execute_result"
    },
    {
     "data": {
      "image/png": "[encoded data removed]",
      "text/plain": [
       "<Figure size 432x288 with 1 Axes>"
      ]
     },
     "metadata": {
      "needs_background": "light"
     },
     "output_type": "display_data"
    }
   ],
   "source": [
    "plt.scatter(y_test,rfr.predict(X_test))"
   ]
  },
  {
   "cell_type": "code",
   "execution_count": 347,
   "metadata": {},
   "outputs": [
    {
     "data": {
      "text/plain": [
       "<matplotlib.collections.PathCollection at 0x218287d2748>"
      ]
     },
     "execution_count": 347,
     "metadata": {},
     "output_type": "execute_result"
    },
    {
     "data": {
      "image/png": "[encoded data removed]",
      "text/plain": [
       "<Figure size 432x288 with 1 Axes>"
      ]
     },
     "metadata": {
      "needs_background": "light"
     },
     "output_type": "display_data"
    }
   ],
   "source": [
    "plt.scatter(y_test,dtr.predict(X_test))"
   ]
  },
  {
   "cell_type": "code",
   "execution_count": 348,
   "metadata": {},
   "outputs": [
    {
     "data": {
      "text/plain": [
       "<matplotlib.collections.PathCollection at 0x218287e7048>"
      ]
     },
     "execution_count": 348,
     "metadata": {},
     "output_type": "execute_result"
    },
    {
     "data": {
      "image/png": "[encoded data removed]",
      "text/plain": [
       "<Figure size 432x288 with 1 Axes>"
      ]
     },
     "metadata": {
      "needs_background": "light"
     },
     "output_type": "display_data"
    }
   ],
   "source": [
    "plt.scatter(y_test,lr.predict(X_test))"
   ]
  },
  {
   "cell_type": "markdown",
   "metadata": {},
   "source": [
    "### Let's predict prices"
   ]
  },
  {
   "cell_type": "code",
   "execution_count": 295,
   "metadata": {},
   "outputs": [],
   "source": [
    "def predict_price(city,bedroom,bathroom,toilet):\n",
    "    loc_index = np.where(X.columns==city)[0][0]\n",
    "    \n",
    "    x = np.zeros(len(X.columns))\n",
    "    x[0] = bedroom\n",
    "    x[1] = bathroom\n",
    "    x[2] = toilet\n",
    "    if loc_index >= 0 :\n",
    "        x[loc_index] = 1\n",
    "        \n",
    "    return rfr.predict([x])[0]"
   ]
  },
  {
   "cell_type": "code",
   "execution_count": 296,
   "metadata": {},
   "outputs": [
    {
     "data": {
      "text/plain": [
       "1397002.368823269"
      ]
     },
     "execution_count": 296,
     "metadata": {},
     "output_type": "execute_result"
    }
   ],
   "source": [
    "predict_price('Lekki',1,1,1)"
   ]
  },
  {
   "cell_type": "code",
   "execution_count": 297,
   "metadata": {},
   "outputs": [
    {
     "data": {
      "text/plain": [
       "8940685.20660626"
      ]
     },
     "execution_count": 297,
     "metadata": {},
     "output_type": "execute_result"
    }
   ],
   "source": [
    "predict_price('Ikoyi',4,4,5)"
   ]
  },
  {
   "cell_type": "markdown",
   "metadata": {},
   "source": [
    "### Exporting the model to disk"
   ]
  },
  {
   "cell_type": "code",
   "execution_count": 197,
   "metadata": {},
   "outputs": [],
   "source": [
    "import pickle\n",
    "with open('Lagos_properties_price_model.pickle','wb') as f:\n",
    "    pickle.dump(rfr, f)"
   ]
  },
  {
   "cell_type": "code",
   "execution_count": null,
   "metadata": {},
   "outputs": [],
   "source": [
    "interact(\n",
    "    make_prediction,\n",
    "    area=IntSlider(\n",
    "        min=X_train[\"surface_covered_in_m2\"].min(),\n",
    "        max=X_train[\"surface_covered_in_m2\"].max(),\n",
    "        value=X_train[\"surface_covered_in_m2\"].mean(),\n",
    "    ),\n",
    "    lat=FloatSlider(\n",
    "        min=X_train[\"lat\"].min(),\n",
    "        max=X_train[\"lat\"].max(),\n",
    "        step=0.01,\n",
    "        value=X_train[\"lat\"].mean(),\n",
    "    ),\n",
    "    lon=FloatSlider(\n",
    "        min=X_train[\"lon\"].min(),\n",
    "        max=X_train[\"lon\"].max(),\n",
    "        step=0.01,\n",
    "        value=X_train[\"lon\"].mean(),\n",
    "    ),\n",
    "    neighborhood=Dropdown(options=sorted(X_train[\"neighborhood\"].unique())),\n",
    ");"
   ]
  }
 ],
 "metadata": {
  "kernelspec": {
   "display_name": "Python 3",
   "language": "python",
   "name": "python3"
  },
  "language_info": {
   "codemirror_mode": {
    "name": "ipython",
    "version": 3
   },
   "file_extension": ".py",
   "mimetype": "text/x-python",
   "name": "python",
   "nbconvert_exporter": "python",
   "pygments_lexer": "ipython3",
   "version": "3.7.4"
  }
 },
 "nbformat": 4,
 "nbformat_minor": 2
}
